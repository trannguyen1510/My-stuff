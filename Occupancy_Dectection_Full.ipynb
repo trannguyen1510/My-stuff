{
  "nbformat": 4,
  "nbformat_minor": 0,
  "metadata": {
    "colab": {
      "name": "Occupancy_Dectection_Full.ipynb",
      "provenance": [],
      "collapsed_sections": [],
      "authorship_tag": "ABX9TyPRtItJDpMAmi3bk94A15A4",
      "include_colab_link": true
    },
    "kernelspec": {
      "name": "python3",
      "display_name": "Python 3"
    }
  },
  "cells": [
    {
      "cell_type": "markdown",
      "metadata": {
        "id": "view-in-github",
        "colab_type": "text"
      },
      "source": [
        "<a href=\"https://colab.research.google.com/github/trannguyen1510/My-stuff/blob/master/Occupancy_Dectection_Full.ipynb\" target=\"_parent\"><img src=\"https://colab.research.google.com/assets/colab-badge.svg\" alt=\"Open In Colab\"/></a>"
      ]
    },
    {
      "cell_type": "code",
      "metadata": {
        "id": "TCWi80ztxtCG"
      },
      "source": [
        "import pickle\n",
        "import pandas as pd\n",
        "import numpy as np\n",
        "from sklearn import svm\n",
        "from sklearn.tree import DecisionTreeClassifier\n",
        "from sklearn.linear_model import LogisticRegression\n",
        "from sklearn.naive_bayes import GaussianNB\n",
        "from sklearn.metrics import accuracy_score, classification_report, confusion_matrix, precision_score, recall_score, f1_score, plot_confusion_matrix\n",
        "from sklearn.model_selection import train_test_split, GridSearchCV\n",
        "from sklearn.pipeline import Pipeline\n",
        "import numpy as np \n",
        "import matplotlib.pyplot as plt"
      ],
      "execution_count": null,
      "outputs": []
    },
    {
      "cell_type": "markdown",
      "metadata": {
        "id": "_JpNQv6SqsXL"
      },
      "source": [
        "# Mục mới"
      ]
    },
    {
      "cell_type": "code",
      "metadata": {
        "id": "YxWy4nrV8UQU",
        "colab": {
          "base_uri": "https://localhost:8080/"
        },
        "outputId": "e3a93517-99dd-411f-e69c-b16126ec00c8"
      },
      "source": [
        "# Tab này chỉ host chạy\n",
        "from google.colab import drive\n",
        "drive.mount('/content/drive')"
      ],
      "execution_count": null,
      "outputs": [
        {
          "output_type": "stream",
          "text": [
            "Mounted at /content/drive\n"
          ],
          "name": "stdout"
        }
      ]
    },
    {
      "cell_type": "code",
      "metadata": {
        "id": "n_kguaBXK1wt"
      },
      "source": [
        "# Tab này chỉ host chạy\n",
        "path_dir = '/content/drive/My Drive/ĐH/Data Mining/Dataset'\n",
        "path_data = path_dir + '/New.txt'\n",
        "\n",
        "dataset = pd.read_csv(path_data)\n",
        "train_data = pd.read_csv(path_dir + '/datatraining.txt')\n",
        "val_data = pd.read_csv(path_dir + '/datatest.txt')\n",
        "test_data = pd.read_csv(path_dir + '/datatest2.txt')"
      ],
      "execution_count": null,
      "outputs": []
    },
    {
      "cell_type": "code",
      "metadata": {
        "id": "8nmh5HRaEXk-"
      },
      "source": [
        "feature_cols = [\"date\", \"Temperature\", \"Humidity\", \"Light\", \"CO2\", \"HumidityRatio\"]\n",
        "lable_cols = [\"Occupancy\"]"
      ],
      "execution_count": null,
      "outputs": []
    },
    {
      "cell_type": "code",
      "metadata": {
        "colab": {
          "base_uri": "https://localhost:8080/"
        },
        "id": "sEfkIP6DiXKy",
        "outputId": "463be276-a31b-403a-d024-4141f9c98fc9"
      },
      "source": [
        "print(dataset.shape)"
      ],
      "execution_count": null,
      "outputs": [
        {
          "output_type": "stream",
          "text": [
            "(20560, 7)\n"
          ],
          "name": "stdout"
        }
      ]
    },
    {
      "cell_type": "code",
      "metadata": {
        "id": "e2itVK1BLLRT"
      },
      "source": [
        "feature_cols = [\"date\", \"Temperature\", \"Humidity\", \"Light\", \"CO2\", \"HumidityRatio\"]\n",
        "lable_cols = [\"Occupancy\"]"
      ],
      "execution_count": null,
      "outputs": []
    },
    {
      "cell_type": "code",
      "metadata": {
        "id": "1aZ1dcNhXP8w",
        "colab": {
          "base_uri": "https://localhost:8080/"
        },
        "outputId": "4f9d9a1e-7473-4f9c-d4e0-429f18f20dc9"
      },
      "source": [
        "# TRAIN\n",
        "print(\"***** Training DATA *****\")\n",
        "X_train_raw = train_data[feature_cols]\n",
        "print(X_train_raw.shape)\n",
        "\n",
        "Y_train_raw = train_data[lable_cols]\n",
        "print(Y_train_raw.shape)\n",
        "\n",
        "# VAL\n",
        "print(\"***** Validation DATA *****\")\n",
        "\n",
        "X_val_raw = val_data[feature_cols]\n",
        "print(X_val_raw.shape)\n",
        "\n",
        "Y_val_raw = val_data[lable_cols]\n",
        "print(Y_val_raw.shape)\n",
        "\n",
        "# TEST\n",
        "print(\"***** TEST DATA *****\")\n",
        "\n",
        "X_test_raw = test_data[feature_cols]\n",
        "print(X_test_raw.shape)\n",
        "\n",
        "Y_test_raw = test_data[lable_cols]\n",
        "print(Y_test_raw.shape)"
      ],
      "execution_count": null,
      "outputs": [
        {
          "output_type": "stream",
          "text": [
            "***** Training DATA *****\n",
            "(8143, 6)\n",
            "(8143, 1)\n",
            "***** Validation DATA *****\n",
            "(2665, 6)\n",
            "(2665, 1)\n",
            "***** TEST DATA *****\n",
            "(9752, 6)\n",
            "(9752, 1)\n"
          ],
          "name": "stdout"
        }
      ]
    },
    {
      "cell_type": "code",
      "metadata": {
        "id": "nICak0eZGVPT",
        "colab": {
          "base_uri": "https://localhost:8080/"
        },
        "outputId": "cb741d2d-8155-424b-c781-4f585667bac3"
      },
      "source": [
        "print(train_data.head(10))"
      ],
      "execution_count": null,
      "outputs": [
        {
          "output_type": "stream",
          "text": [
            "                   date  Temperature  ...  HumidityRatio  Occupancy\n",
            "1   2015-02-04 17:51:00       23.180  ...       0.004793          1\n",
            "2   2015-02-04 17:51:59       23.150  ...       0.004783          1\n",
            "3   2015-02-04 17:53:00       23.150  ...       0.004779          1\n",
            "4   2015-02-04 17:54:00       23.150  ...       0.004772          1\n",
            "5   2015-02-04 17:55:00       23.100  ...       0.004757          1\n",
            "6   2015-02-04 17:55:59       23.100  ...       0.004757          1\n",
            "7   2015-02-04 17:57:00       23.100  ...       0.004757          1\n",
            "8   2015-02-04 17:57:59       23.100  ...       0.004757          1\n",
            "9   2015-02-04 17:58:59       23.100  ...       0.004757          1\n",
            "10  2015-02-04 18:00:00       23.075  ...       0.004745          1\n",
            "\n",
            "[10 rows x 7 columns]\n"
          ],
          "name": "stdout"
        }
      ]
    },
    {
      "cell_type": "code",
      "metadata": {
        "id": "XG5HwieZWSDv"
      },
      "source": [
        "from datetime import datetime\n",
        "\n",
        "def create_new_features(data):\n",
        "    time_buckets = []\n",
        "    weekday = []\n",
        "\n",
        "    for index, row in data.iterrows():\n",
        "        parsed_date = datetime.strptime(row['date'], \"%Y-%m-%d %H:%M:%S\")\n",
        "        time_bucket = parsed_date.hour % 4 # lets divide in to [day 6-12, afternoon 12-6, evening 6-12, night 12-6]\n",
        "        time_buckets.append(time_bucket)\n",
        "        wday = 0 if parsed_date.isoweekday() > 5 else 1\n",
        "        weekday.append(wday)\n",
        "    return time_buckets, weekday\n",
        "\n",
        "train_time_buckets, train_weekday = create_new_features(train_data)\n",
        "val_time_buckets, val_weekday = create_new_features(val_data)\n",
        "test_time_buckets, test_weekday = create_new_features(test_data)"
      ],
      "execution_count": null,
      "outputs": []
    },
    {
      "cell_type": "code",
      "metadata": {
        "id": "mPoMwkkxCo-x",
        "colab": {
          "base_uri": "https://localhost:8080/"
        },
        "outputId": "970c8f0b-8a99-4f49-ea2a-fe875117741f"
      },
      "source": [
        "li = [train_weekday, val_weekday, test_weekday]\n",
        "for i in li:\n",
        "  count = 0\n",
        "  for j in i:\n",
        "    if j == 0:\n",
        "      count += 1\n",
        "  print('Train_val:')\n",
        "  print('--0:', count)\n",
        "  print('--1:', len(i) - count)"
      ],
      "execution_count": null,
      "outputs": [
        {
          "output_type": "stream",
          "text": [
            "Train_val:\n",
            "--0: 2880\n",
            "--1: 5263\n",
            "Train_val:\n",
            "--0: 0\n",
            "--1: 2665\n",
            "Train_val:\n",
            "--0: 2880\n",
            "--1: 6872\n"
          ],
          "name": "stdout"
        }
      ]
    },
    {
      "cell_type": "code",
      "metadata": {
        "id": "EnktV70j_PwL"
      },
      "source": [
        "#Validation dataset did not have any values with occupancy 0. So we are adding one here\n",
        "val_weekday[-1] = 0"
      ],
      "execution_count": null,
      "outputs": []
    },
    {
      "cell_type": "code",
      "metadata": {
        "id": "A8OM5Rs6eDmz",
        "colab": {
          "base_uri": "https://localhost:8080/"
        },
        "outputId": "957a1bc8-2979-44da-e908-243a3db9165a"
      },
      "source": [
        "from sklearn.preprocessing import LabelEncoder\n",
        "from sklearn.preprocessing import OneHotEncoder\n",
        "\n",
        "def onehot_encode(values):\n",
        "    new_values = np.array(values)\n",
        "    label_encoder = LabelEncoder()\n",
        "    integer_encoded = label_encoder.fit_transform(new_values)\n",
        "    onehot_encoder = OneHotEncoder(sparse=False)\n",
        "    integer_encoded = integer_encoded.reshape(len(integer_encoded), 1)\n",
        "    onehot_encoded = onehot_encoder.fit_transform(integer_encoded)\n",
        "    return (onehot_encoded, label_encoder.classes_)\n",
        "\n",
        "# TRAINING DATA\n",
        "train_time_bucket_onehot_encoded, train_time_class = onehot_encode(train_time_buckets)\n",
        "train_weekday_onehot_encoded, train_weekday_class = onehot_encode(train_weekday)\n",
        "print(train_time_bucket_onehot_encoded, train_time_class)\n",
        "print(train_weekday_onehot_encoded, train_weekday_class)\n",
        "\n",
        "\n",
        "# VALIDATION DATA\n",
        "val_time_bucket_onehot_encoded, val_time_class = onehot_encode(val_time_buckets)\n",
        "val_weekday_onehot_encoded, val_weekday_class = onehot_encode(val_weekday)\n",
        "print(val_time_bucket_onehot_encoded, val_time_class)\n",
        "print(val_weekday_onehot_encoded, val_weekday_class)\n",
        "\n",
        "\n",
        "# TEST DATA\n",
        "test_time_bucket_onehot_encoded, test_time_class = onehot_encode(test_time_buckets)\n",
        "test_weekday_onehot_encoded, test_weekday_class = onehot_encode(test_weekday)\n",
        "print(test_time_bucket_onehot_encoded, test_time_class)\n",
        "print(test_weekday_onehot_encoded, test_weekday_class)"
      ],
      "execution_count": null,
      "outputs": [
        {
          "output_type": "stream",
          "text": [
            "[[0. 1. 0. 0.]\n",
            " [0. 1. 0. 0.]\n",
            " [0. 1. 0. 0.]\n",
            " ...\n",
            " [0. 1. 0. 0.]\n",
            " [0. 1. 0. 0.]\n",
            " [0. 1. 0. 0.]] [0 1 2 3]\n",
            "[[0. 1.]\n",
            " [0. 1.]\n",
            " [0. 1.]\n",
            " ...\n",
            " [0. 1.]\n",
            " [0. 1.]\n",
            " [0. 1.]] [0 1]\n",
            "[[0. 0. 1. 0.]\n",
            " [0. 0. 1. 0.]\n",
            " [0. 0. 1. 0.]\n",
            " ...\n",
            " [0. 0. 1. 0.]\n",
            " [0. 0. 1. 0.]\n",
            " [0. 0. 1. 0.]] [0 1 2 3]\n",
            "[[0. 1.]\n",
            " [0. 1.]\n",
            " [0. 1.]\n",
            " ...\n",
            " [0. 1.]\n",
            " [0. 1.]\n",
            " [1. 0.]] [0 1]\n",
            "[[0. 0. 1. 0.]\n",
            " [0. 0. 1. 0.]\n",
            " [0. 0. 1. 0.]\n",
            " ...\n",
            " [0. 1. 0. 0.]\n",
            " [0. 1. 0. 0.]\n",
            " [0. 1. 0. 0.]] [0 1 2 3]\n",
            "[[0. 1.]\n",
            " [0. 1.]\n",
            " [0. 1.]\n",
            " ...\n",
            " [0. 1.]\n",
            " [0. 1.]\n",
            " [0. 1.]] [0 1]\n"
          ],
          "name": "stdout"
        }
      ]
    },
    {
      "cell_type": "code",
      "metadata": {
        "id": "AmXhCfogN6qs",
        "colab": {
          "base_uri": "https://localhost:8080/"
        },
        "outputId": "6706dabe-e427-4046-8ad2-f3b0d8ae6879"
      },
      "source": [
        "# Append new features to Train, Validation and Test sets\n",
        "\n",
        "def add_new_features(arr, week_onehot, time_onehot):\n",
        "    # lets ignore the date column for all the rows\n",
        "    X = arr.values[:, 1:] \n",
        "    XW = np.hstack((X, week_onehot))\n",
        "    XTW = np.hstack((XW, time_onehot))\n",
        "    return XTW\n",
        "\n",
        "X_train = add_new_features(X_train_raw, train_weekday_onehot_encoded, train_time_bucket_onehot_encoded)\n",
        "print(X_train.shape)\n",
        "\n",
        "X_val = add_new_features(X_val_raw, val_weekday_onehot_encoded, val_time_bucket_onehot_encoded)\n",
        "print(X_val.shape)\n",
        "\n",
        "X_test = add_new_features(X_test_raw, test_weekday_onehot_encoded, test_time_bucket_onehot_encoded)\n",
        "print(X_test.shape)"
      ],
      "execution_count": null,
      "outputs": [
        {
          "output_type": "stream",
          "text": [
            "(8143, 11)\n",
            "(2665, 11)\n",
            "(9752, 11)\n"
          ],
          "name": "stdout"
        }
      ]
    },
    {
      "cell_type": "code",
      "metadata": {
        "id": "usiOTrsPYvHs",
        "colab": {
          "base_uri": "https://localhost:8080/"
        },
        "outputId": "8c5c0381-bf4f-48d8-c6dc-069f8d5181af"
      },
      "source": [
        "Y_train = np.array(Y_train_raw)\n",
        "Y_val = np.array(Y_val_raw)\n",
        "Y_test = np.array(Y_test_raw)\n",
        "\n",
        "type(Y_train[0][0])"
      ],
      "execution_count": null,
      "outputs": [
        {
          "output_type": "execute_result",
          "data": {
            "text/plain": [
              "numpy.int64"
            ]
          },
          "metadata": {
            "tags": []
          },
          "execution_count": 262
        }
      ]
    },
    {
      "cell_type": "code",
      "metadata": {
        "id": "6G6VJh_uA9x9"
      },
      "source": [
        "Confusion Matrix:\n",
        "- True Positives (TP)\n",
        "- True Negatives (TN)\n",
        "- False Positives (FP)\n",
        "- False Negatives (FN)\n",
        "\n",
        "Accuracy = TP+TN/TP+FP+FN+TN\n",
        "\n",
        "Precision - Precision is the ratio of correctly predicted positive observations to the total predicted positive observations\n",
        "Precision = TP/(TP+FP)\n",
        "\n",
        "Recall (Sensitivity) - Recall is the ratio of correctly predicted positive observations to the all observations in actual class - yes\n",
        "Recall = TP/(TP+FN)\n",
        "\n",
        "F1 score - F1 Score is the weighted average of Precision and Recall\n",
        "F1 Score = 2*(Recall * Precision) / (Recall + Precision)"
      ],
      "execution_count": null,
      "outputs": []
    },
    {
      "cell_type": "markdown",
      "metadata": {
        "id": "JSyyeuy35VaO"
      },
      "source": [
        "# **Decision Tree Classifier**"
      ]
    },
    {
      "cell_type": "code",
      "metadata": {
        "id": "y9pq-vgr8j32"
      },
      "source": [
        "model_dct = DecisionTreeClassifier().fit(X_train, Y_train.ravel())  # ccp_alpha tăng thì số nhánh giảm"
      ],
      "execution_count": null,
      "outputs": []
    },
    {
      "cell_type": "code",
      "metadata": {
        "colab": {
          "base_uri": "https://localhost:8080/"
        },
        "id": "ENXK7fcu5Q3v",
        "outputId": "7d5cca6f-a344-4b2c-ea40-89e66bc8e7c3"
      },
      "source": [
        "model_dct"
      ],
      "execution_count": null,
      "outputs": [
        {
          "output_type": "execute_result",
          "data": {
            "text/plain": [
              "DecisionTreeClassifier(ccp_alpha=0.0, class_weight=None, criterion='gini',\n",
              "                       max_depth=None, max_features=None, max_leaf_nodes=None,\n",
              "                       min_impurity_decrease=0.0, min_impurity_split=None,\n",
              "                       min_samples_leaf=1, min_samples_split=2,\n",
              "                       min_weight_fraction_leaf=0.0, presort='deprecated',\n",
              "                       random_state=None, splitter='best')"
            ]
          },
          "metadata": {
            "tags": []
          },
          "execution_count": 35
        }
      ]
    },
    {
      "cell_type": "code",
      "metadata": {
        "id": "kGGsDNAZ9yc4"
      },
      "source": [
        "ccp_alpha=0.3"
      ],
      "execution_count": null,
      "outputs": []
    },
    {
      "cell_type": "markdown",
      "metadata": {
        "id": "9yUTzcQQnYWf"
      },
      "source": [
        "## Validation"
      ]
    },
    {
      "cell_type": "code",
      "metadata": {
        "id": "GwWe_ok6-XSU"
      },
      "source": [
        "Y_pred_decisionTree = model_dct.predict(X_val)"
      ],
      "execution_count": null,
      "outputs": []
    },
    {
      "cell_type": "code",
      "metadata": {
        "id": "o-LeAWX2AGOp",
        "colab": {
          "base_uri": "https://localhost:8080/"
        },
        "outputId": "ef02327a-65cb-4eb0-d93f-53f9ec3d5ee3"
      },
      "source": [
        "target_names = ['class 0', 'class 1']\n",
        "print(classification_report(Y_val, Y_pred_decisionTree, target_names=target_names))\n",
        "print('\\nAccuracy: %.6f' % accuracy_score(Y_val, Y_pred_decisionTree))"
      ],
      "execution_count": null,
      "outputs": [
        {
          "output_type": "stream",
          "text": [
            "              precision    recall  f1-score   support\n",
            "\n",
            "     class 0       0.89      0.97      0.93      1693\n",
            "     class 1       0.94      0.80      0.86       972\n",
            "\n",
            "    accuracy                           0.91      2665\n",
            "   macro avg       0.92      0.88      0.90      2665\n",
            "weighted avg       0.91      0.91      0.91      2665\n",
            "\n",
            "\n",
            "Accuracy: 0.906942\n"
          ],
          "name": "stdout"
        }
      ]
    },
    {
      "cell_type": "markdown",
      "metadata": {
        "id": "Cg4egu2Kneqo"
      },
      "source": [
        "## Test"
      ]
    },
    {
      "cell_type": "code",
      "metadata": {
        "id": "TMI_Er3YneCY"
      },
      "source": [
        "Y_pred_decisionTree = model_dct.predict(X_test)"
      ],
      "execution_count": null,
      "outputs": []
    },
    {
      "cell_type": "code",
      "metadata": {
        "colab": {
          "base_uri": "https://localhost:8080/"
        },
        "id": "cVLS__K7nl2Q",
        "outputId": "2f1f855d-3e42-413b-d443-aa26e32f166c"
      },
      "source": [
        "target_names = ['class 0', 'class 1']\n",
        "print(classification_report(Y_test, Y_pred_decisionTree, target_names=target_names))\n",
        "print('\\nAccuracy: %.6f' % accuracy_score(Y_test, Y_pred_decisionTree))"
      ],
      "execution_count": null,
      "outputs": [
        {
          "output_type": "stream",
          "text": [
            "              precision    recall  f1-score   support\n",
            "\n",
            "     class 0       0.96      0.99      0.97      7703\n",
            "     class 1       0.95      0.84      0.89      2049\n",
            "\n",
            "    accuracy                           0.96      9752\n",
            "   macro avg       0.95      0.92      0.93      9752\n",
            "weighted avg       0.96      0.96      0.96      9752\n",
            "\n",
            "\n",
            "Accuracy: 0.957240\n"
          ],
          "name": "stdout"
        }
      ]
    },
    {
      "cell_type": "markdown",
      "metadata": {
        "id": "BKPBZJ0QlIro"
      },
      "source": [
        "## **Grid Search**"
      ]
    },
    {
      "cell_type": "code",
      "metadata": {
        "id": "P8wTWveylIro"
      },
      "source": [
        "# Grid Search\n",
        "pipe = Pipeline([('classifier' , DecisionTreeClassifier())])\n",
        "param_grid = [\n",
        "    {'classifier' : [DecisionTreeClassifier()],\n",
        "     'classifier__ccp_alpha': np.linspace(0.0, 0.1, 100, endpoint=True),\n",
        "     'classifier__max_depth': np.linspace(1, 32, 32, endpoint=True)}\n",
        "]\n",
        "\n",
        "clf = GridSearchCV(pipe, param_grid = param_grid, cv = 5, verbose=True,\n",
        "            n_jobs=-1, scoring = 'accuracy')"
      ],
      "execution_count": null,
      "outputs": []
    },
    {
      "cell_type": "code",
      "metadata": {
        "id": "2tgBFz6f3F-8"
      },
      "source": [
        "# 'classifier__min_samples_split' : np.linspace(0.1, 1.0, 10, endpoint=True),\n",
        "# 'classifier__min_samples_leaf' : np.linspace(0.1, 0.5, 5, endpoint=True),\n",
        "# 'classifier__max_features' : list(range(1,X_train.shape[1]))"
      ],
      "execution_count": null,
      "outputs": []
    },
    {
      "cell_type": "code",
      "metadata": {
        "colab": {
          "base_uri": "https://localhost:8080/"
        },
        "id": "ekf3gbNBlIro",
        "outputId": "650c311b-64ec-469e-8eb5-6978d95a574b"
      },
      "source": [
        "best_clf_decisionTree = clf.fit(X_train, Y_train.ravel())"
      ],
      "execution_count": null,
      "outputs": [
        {
          "output_type": "stream",
          "text": [
            "Fitting 5 folds for each of 3200 candidates, totalling 16000 fits\n"
          ],
          "name": "stdout"
        },
        {
          "output_type": "stream",
          "text": [
            "[Parallel(n_jobs=-1)]: Using backend LokyBackend with 2 concurrent workers.\n",
            "[Parallel(n_jobs=-1)]: Done 216 tasks      | elapsed:    4.1s\n",
            "[Parallel(n_jobs=-1)]: Done 1416 tasks      | elapsed:   21.2s\n",
            "[Parallel(n_jobs=-1)]: Done 3416 tasks      | elapsed:   49.3s\n",
            "[Parallel(n_jobs=-1)]: Done 6216 tasks      | elapsed:  1.5min\n",
            "[Parallel(n_jobs=-1)]: Done 9816 tasks      | elapsed:  2.3min\n",
            "[Parallel(n_jobs=-1)]: Done 14216 tasks      | elapsed:  3.4min\n",
            "[Parallel(n_jobs=-1)]: Done 16000 out of 16000 | elapsed:  3.8min finished\n"
          ],
          "name": "stderr"
        }
      ]
    },
    {
      "cell_type": "code",
      "metadata": {
        "colab": {
          "base_uri": "https://localhost:8080/"
        },
        "id": "D_MwpVJ59POA",
        "outputId": "e9969588-e0f5-4b2f-e161-5bad936b933e"
      },
      "source": [
        "best_clf_decisionTree.best_params_"
      ],
      "execution_count": null,
      "outputs": [
        {
          "output_type": "execute_result",
          "data": {
            "text/plain": [
              "{'classifier': DecisionTreeClassifier(ccp_alpha=0.0, class_weight=None, criterion='gini',\n",
              "                        max_depth=1.0, max_features=None, max_leaf_nodes=None,\n",
              "                        min_impurity_decrease=0.0, min_impurity_split=None,\n",
              "                        min_samples_leaf=1, min_samples_split=2,\n",
              "                        min_weight_fraction_leaf=0.0, presort='deprecated',\n",
              "                        random_state=None, splitter='best'),\n",
              " 'classifier__ccp_alpha': 0.0,\n",
              " 'classifier__max_depth': 1.0}"
            ]
          },
          "metadata": {
            "tags": []
          },
          "execution_count": 30
        }
      ]
    },
    {
      "cell_type": "markdown",
      "metadata": {
        "id": "eAH2Hmlz836j"
      },
      "source": [
        "## Validation"
      ]
    },
    {
      "cell_type": "code",
      "metadata": {
        "id": "tSloJgfB836j"
      },
      "source": [
        "Y_pred_decisionTree = best_clf_decisionTree.predict(X_val)"
      ],
      "execution_count": null,
      "outputs": []
    },
    {
      "cell_type": "code",
      "metadata": {
        "colab": {
          "base_uri": "https://localhost:8080/"
        },
        "id": "nDh8ClP5836j",
        "outputId": "d6823366-6117-4ef3-fdc3-3275178382d4"
      },
      "source": [
        "target_names = ['class 0', 'class 1']\n",
        "print(classification_report(Y_val, Y_pred_decisionTree, target_names=target_names))\n",
        "print('\\nAccuracy: %.6f' % accuracy_score(Y_val, Y_pred_decisionTree))"
      ],
      "execution_count": null,
      "outputs": [
        {
          "output_type": "stream",
          "text": [
            "              precision    recall  f1-score   support\n",
            "\n",
            "     class 0       1.00      0.97      0.98      1693\n",
            "     class 1       0.95      1.00      0.97       972\n",
            "\n",
            "    accuracy                           0.98      2665\n",
            "   macro avg       0.97      0.98      0.98      2665\n",
            "weighted avg       0.98      0.98      0.98      2665\n",
            "\n",
            "\n",
            "Accuracy: 0.978612\n"
          ],
          "name": "stdout"
        }
      ]
    },
    {
      "cell_type": "markdown",
      "metadata": {
        "id": "Rl6THz6H836j"
      },
      "source": [
        "## Test"
      ]
    },
    {
      "cell_type": "code",
      "metadata": {
        "id": "gaXCpBgP836j"
      },
      "source": [
        "Y_pred_decisionTree = best_clf_decisionTree.predict(X_test)"
      ],
      "execution_count": null,
      "outputs": []
    },
    {
      "cell_type": "code",
      "metadata": {
        "colab": {
          "base_uri": "https://localhost:8080/"
        },
        "id": "XuymjODg836j",
        "outputId": "231a668e-a784-4c7b-8e30-fd480027775f"
      },
      "source": [
        "target_names = ['class 0', 'class 1']\n",
        "print(classification_report(Y_test, Y_pred_decisionTree, target_names=target_names))\n",
        "print('\\nAccuracy: %.6f' % accuracy_score(Y_test, Y_pred_decisionTree))"
      ],
      "execution_count": null,
      "outputs": [
        {
          "output_type": "stream",
          "text": [
            "              precision    recall  f1-score   support\n",
            "\n",
            "     class 0       1.00      0.99      1.00      7703\n",
            "     class 1       0.97      0.99      0.98      2049\n",
            "\n",
            "    accuracy                           0.99      9752\n",
            "   macro avg       0.99      0.99      0.99      9752\n",
            "weighted avg       0.99      0.99      0.99      9752\n",
            "\n",
            "\n",
            "Accuracy: 0.993130\n"
          ],
          "name": "stdout"
        }
      ]
    },
    {
      "cell_type": "markdown",
      "metadata": {
        "id": "A3F10y_c9RLX"
      },
      "source": [
        "# **Gaussian Naive Bayes**"
      ]
    },
    {
      "cell_type": "code",
      "metadata": {
        "id": "rIVxXF5n9YnJ"
      },
      "source": [
        "model_gnb = GaussianNB().fit(X_train, Y_train.ravel())"
      ],
      "execution_count": null,
      "outputs": []
    },
    {
      "cell_type": "markdown",
      "metadata": {
        "id": "OPA2BQQknx1g"
      },
      "source": [
        "## Validation"
      ]
    },
    {
      "cell_type": "code",
      "metadata": {
        "id": "Olguon8f9ZBC"
      },
      "source": [
        "Y_pred_GaussianNB = model_gnb.predict(X_val)"
      ],
      "execution_count": null,
      "outputs": []
    },
    {
      "cell_type": "code",
      "metadata": {
        "id": "wSKoUeK19oY9",
        "colab": {
          "base_uri": "https://localhost:8080/"
        },
        "outputId": "1bdc599d-f6c6-4cab-cd9f-ffa43bf5cece"
      },
      "source": [
        "target_names = ['class 0', 'class 1']\n",
        "print(classification_report(Y_val, Y_pred_GaussianNB, target_names=target_names))\n",
        "print('\\nAccuracy: %.6f' % accuracy_score(Y_val, Y_pred_GaussianNB))"
      ],
      "execution_count": null,
      "outputs": [
        {
          "output_type": "stream",
          "text": [
            "              precision    recall  f1-score   support\n",
            "\n",
            "     class 0       1.00      0.97      0.98      1693\n",
            "     class 1       0.95      0.99      0.97       972\n",
            "\n",
            "    accuracy                           0.98      2665\n",
            "   macro avg       0.97      0.98      0.98      2665\n",
            "weighted avg       0.98      0.98      0.98      2665\n",
            "\n",
            "\n",
            "Accuracy: 0.977111\n"
          ],
          "name": "stdout"
        }
      ]
    },
    {
      "cell_type": "markdown",
      "metadata": {
        "id": "RSzlbUEIn0CH"
      },
      "source": [
        "## Test"
      ]
    },
    {
      "cell_type": "code",
      "metadata": {
        "id": "q4cZm58pn38l"
      },
      "source": [
        "Y_pred_GaussianNB = model_gnb.predict(X_test)"
      ],
      "execution_count": null,
      "outputs": []
    },
    {
      "cell_type": "code",
      "metadata": {
        "colab": {
          "base_uri": "https://localhost:8080/"
        },
        "id": "_eHxut5bn8wy",
        "outputId": "e7407af6-be55-4a3c-f25a-e4101ef26be9"
      },
      "source": [
        "target_names = ['class 0', 'class 1']\n",
        "print(classification_report(Y_test, Y_pred_GaussianNB, target_names=target_names))\n",
        "print('\\nAccuracy: %.6f' % accuracy_score(Y_test, Y_pred_GaussianNB))"
      ],
      "execution_count": null,
      "outputs": [
        {
          "output_type": "stream",
          "text": [
            "              precision    recall  f1-score   support\n",
            "\n",
            "     class 0       1.00      0.98      0.99      7703\n",
            "     class 1       0.93      1.00      0.96      2049\n",
            "\n",
            "    accuracy                           0.98      9752\n",
            "   macro avg       0.97      0.99      0.98      9752\n",
            "weighted avg       0.99      0.98      0.98      9752\n",
            "\n",
            "\n",
            "Accuracy: 0.984208\n"
          ],
          "name": "stdout"
        }
      ]
    },
    {
      "cell_type": "markdown",
      "metadata": {
        "id": "bqbvMUpAWpnr"
      },
      "source": [
        "# **Logistic Regression**"
      ]
    },
    {
      "cell_type": "code",
      "metadata": {
        "id": "VU23tuYNWpaO",
        "colab": {
          "base_uri": "https://localhost:8080/"
        },
        "outputId": "35c25929-90e6-4e84-8dce-3668b893cbe2"
      },
      "source": [
        "# Default model\n",
        "logisticRegr = LogisticRegression(solver='liblinear')\n",
        "logisticRegr.fit(X_train, Y_train.ravel())"
      ],
      "execution_count": null,
      "outputs": [
        {
          "output_type": "execute_result",
          "data": {
            "text/plain": [
              "LogisticRegression(C=1.0, class_weight=None, dual=False, fit_intercept=True,\n",
              "                   intercept_scaling=1, l1_ratio=None, max_iter=100,\n",
              "                   multi_class='auto', n_jobs=None, penalty='l2',\n",
              "                   random_state=None, solver='liblinear', tol=0.0001, verbose=0,\n",
              "                   warm_start=False)"
            ]
          },
          "metadata": {
            "tags": []
          },
          "execution_count": 51
        }
      ]
    },
    {
      "cell_type": "markdown",
      "metadata": {
        "id": "x7TyCmMsonPZ"
      },
      "source": [
        "## Validation"
      ]
    },
    {
      "cell_type": "code",
      "metadata": {
        "id": "qY0cQF1aXcPl"
      },
      "source": [
        "Y_pred_logisticRegr = logisticRegr.predict(X_val)"
      ],
      "execution_count": null,
      "outputs": []
    },
    {
      "cell_type": "code",
      "metadata": {
        "colab": {
          "base_uri": "https://localhost:8080/"
        },
        "id": "GqQoNJ8DhvSa",
        "outputId": "9f529265-f206-4597-c5ce-018a9a980828"
      },
      "source": [
        "target_names = ['class 0', 'class 1']\n",
        "print(classification_report(Y_val, Y_pred_logisticRegr, target_names=target_names))\n",
        "print('\\nAccuracy: %.6f' % accuracy_score(Y_val, Y_pred_logisticRegr))"
      ],
      "execution_count": null,
      "outputs": [
        {
          "output_type": "stream",
          "text": [
            "              precision    recall  f1-score   support\n",
            "\n",
            "     class 0       1.00      0.97      0.98      1693\n",
            "     class 1       0.95      1.00      0.97       972\n",
            "\n",
            "    accuracy                           0.98      2665\n",
            "   macro avg       0.97      0.98      0.98      2665\n",
            "weighted avg       0.98      0.98      0.98      2665\n",
            "\n",
            "\n",
            "Accuracy: 0.978236\n"
          ],
          "name": "stdout"
        }
      ]
    },
    {
      "cell_type": "markdown",
      "metadata": {
        "id": "9iLB-hM2oshu"
      },
      "source": [
        "## Test"
      ]
    },
    {
      "cell_type": "code",
      "metadata": {
        "id": "PP-74hqkousl"
      },
      "source": [
        "Y_pred_logisticRegr = logisticRegr.predict(X_test)"
      ],
      "execution_count": null,
      "outputs": []
    },
    {
      "cell_type": "code",
      "metadata": {
        "colab": {
          "base_uri": "https://localhost:8080/"
        },
        "id": "tOaWCSzMowEm",
        "outputId": "75373cc1-f568-4b2d-8e97-1e1731fdf0b8"
      },
      "source": [
        "target_names = ['class 0', 'class 1']\n",
        "print(classification_report(Y_test, Y_pred_logisticRegr, target_names=target_names))\n",
        "print('\\nAccuracy: %.6f' % accuracy_score(Y_test, Y_pred_logisticRegr))"
      ],
      "execution_count": null,
      "outputs": [
        {
          "output_type": "stream",
          "text": [
            "              precision    recall  f1-score   support\n",
            "\n",
            "     class 0       1.00      0.99      1.00      7703\n",
            "     class 1       0.98      1.00      0.99      2049\n",
            "\n",
            "    accuracy                           0.99      9752\n",
            "   macro avg       0.99      0.99      0.99      9752\n",
            "weighted avg       0.99      0.99      0.99      9752\n",
            "\n",
            "\n",
            "Accuracy: 0.994258\n"
          ],
          "name": "stdout"
        }
      ]
    },
    {
      "cell_type": "markdown",
      "metadata": {
        "id": "iNV5ajdsLO-N"
      },
      "source": [
        "## **Grid Search**"
      ]
    },
    {
      "cell_type": "code",
      "metadata": {
        "id": "3fdTzzKSdRF-"
      },
      "source": [
        "# Grid Search\n",
        "pipe = Pipeline([('classifier' , LogisticRegression())])\n",
        "param_grid = [\n",
        "    {'classifier' : [LogisticRegression()],\n",
        "     'classifier__penalty' : ['l1', 'l2'],\n",
        "     'classifier__C' : np.logspace(-4, 4, 20),\n",
        "     'classifier__class_weight' : ['None', 'balanced'],\n",
        "     'classifier__solver' : ['liblinear', 'newton-cg', 'lbfgs', 'sag']}\n",
        "]\n",
        "\n",
        "clf = GridSearchCV(pipe, param_grid = param_grid, cv = 5, verbose=True,\n",
        "            n_jobs=-1, scoring = 'accuracy')"
      ],
      "execution_count": null,
      "outputs": []
    },
    {
      "cell_type": "code",
      "metadata": {
        "colab": {
          "base_uri": "https://localhost:8080/"
        },
        "id": "vvf2RP0ueq79",
        "outputId": "81f0285c-030a-4885-e1bc-0f2dfb323d25"
      },
      "source": [
        "best_clf = clf.fit(X_train, Y_train.ravel())"
      ],
      "execution_count": null,
      "outputs": [
        {
          "output_type": "stream",
          "text": [
            "Fitting 5 folds for each of 320 candidates, totalling 1600 fits\n"
          ],
          "name": "stdout"
        },
        {
          "output_type": "stream",
          "text": [
            "[Parallel(n_jobs=-1)]: Using backend LokyBackend with 2 concurrent workers.\n",
            "[Parallel(n_jobs=-1)]: Done 128 tasks      | elapsed:    6.8s\n",
            "[Parallel(n_jobs=-1)]: Done 728 tasks      | elapsed:   41.0s\n",
            "[Parallel(n_jobs=-1)]: Done 1396 tasks      | elapsed:  1.6min\n",
            "[Parallel(n_jobs=-1)]: Done 1600 out of 1600 | elapsed:  1.9min finished\n"
          ],
          "name": "stderr"
        }
      ]
    },
    {
      "cell_type": "markdown",
      "metadata": {
        "id": "S13BbBANpNUa"
      },
      "source": [
        "## Validation"
      ]
    },
    {
      "cell_type": "code",
      "metadata": {
        "id": "1fHKdBpRfkmF"
      },
      "source": [
        "Y_pred_logisticRegr = best_clf.predict(X_val)"
      ],
      "execution_count": null,
      "outputs": []
    },
    {
      "cell_type": "code",
      "metadata": {
        "colab": {
          "base_uri": "https://localhost:8080/"
        },
        "id": "d7E3lNLhgEEd",
        "outputId": "8c36d88d-2043-4da4-b94b-3bd934542481"
      },
      "source": [
        "target_names = ['class 0', 'class 1']\n",
        "print(classification_report(Y_val, Y_pred_logisticRegr, target_names=target_names))\n",
        "print('\\nAccuracy: %.6f' % accuracy_score(Y_val, Y_pred_logisticRegr))"
      ],
      "execution_count": null,
      "outputs": [
        {
          "output_type": "stream",
          "text": [
            "              precision    recall  f1-score   support\n",
            "\n",
            "     class 0       1.00      0.97      0.98      1693\n",
            "     class 1       0.95      1.00      0.97       972\n",
            "\n",
            "    accuracy                           0.98      2665\n",
            "   macro avg       0.97      0.98      0.98      2665\n",
            "weighted avg       0.98      0.98      0.98      2665\n",
            "\n",
            "\n",
            "Accuracy: 0.978612\n"
          ],
          "name": "stdout"
        }
      ]
    },
    {
      "cell_type": "markdown",
      "metadata": {
        "id": "ypwlyA2jpSi7"
      },
      "source": [
        "## Test"
      ]
    },
    {
      "cell_type": "code",
      "metadata": {
        "id": "ClLPKBbbpRGZ"
      },
      "source": [
        "Y_pred_logisticRegr = best_clf.predict(X_test)"
      ],
      "execution_count": null,
      "outputs": []
    },
    {
      "cell_type": "code",
      "metadata": {
        "colab": {
          "base_uri": "https://localhost:8080/"
        },
        "id": "ni01jmx5pXYu",
        "outputId": "803d9b27-f4ce-43ef-cf4c-6e96936dffa8"
      },
      "source": [
        "target_names = ['class 0', 'class 1']\n",
        "print(classification_report(Y_test, Y_pred_logisticRegr, target_names=target_names))\n",
        "print('\\nAccuracy: %.6f' % accuracy_score(Y_test, Y_pred_logisticRegr))"
      ],
      "execution_count": null,
      "outputs": [
        {
          "output_type": "stream",
          "text": [
            "              precision    recall  f1-score   support\n",
            "\n",
            "     class 0       1.00      0.99      1.00      7703\n",
            "     class 1       0.98      1.00      0.99      2049\n",
            "\n",
            "    accuracy                           0.99      9752\n",
            "   macro avg       0.99      1.00      0.99      9752\n",
            "weighted avg       0.99      0.99      0.99      9752\n",
            "\n",
            "\n",
            "Accuracy: 0.994463\n"
          ],
          "name": "stdout"
        }
      ]
    },
    {
      "cell_type": "code",
      "metadata": {
        "colab": {
          "base_uri": "https://localhost:8080/"
        },
        "id": "2EuASi7lkiIO",
        "outputId": "f4577a0f-bd4d-4bc1-8ef4-60085c837e0d"
      },
      "source": [
        "logisticRegr"
      ],
      "execution_count": null,
      "outputs": [
        {
          "output_type": "execute_result",
          "data": {
            "text/plain": [
              "LogisticRegression(C=1.0, class_weight=None, dual=False, fit_intercept=True,\n",
              "                   intercept_scaling=1, l1_ratio=None, max_iter=100,\n",
              "                   multi_class='auto', n_jobs=None, penalty='l2',\n",
              "                   random_state=None, solver='liblinear', tol=0.0001, verbose=0,\n",
              "                   warm_start=False)"
            ]
          },
          "metadata": {
            "tags": []
          },
          "execution_count": 58
        }
      ]
    },
    {
      "cell_type": "code",
      "metadata": {
        "colab": {
          "base_uri": "https://localhost:8080/"
        },
        "id": "uc0Lr53BgTRF",
        "outputId": "ce44371d-af68-4598-a391-d6ce16d3e178"
      },
      "source": [
        "best_clf.best_params_"
      ],
      "execution_count": null,
      "outputs": [
        {
          "output_type": "execute_result",
          "data": {
            "text/plain": [
              "{'classifier': LogisticRegression(C=4.281332398719396, class_weight=None, dual=False,\n",
              "                    fit_intercept=True, intercept_scaling=1, l1_ratio=None,\n",
              "                    max_iter=100, multi_class='auto', n_jobs=None, penalty='l2',\n",
              "                    random_state=None, solver='liblinear', tol=0.0001, verbose=0,\n",
              "                    warm_start=False),\n",
              " 'classifier__C': 4.281332398719396,\n",
              " 'classifier__penalty': 'l2',\n",
              " 'classifier__solver': 'liblinear'}"
            ]
          },
          "metadata": {
            "tags": []
          },
          "execution_count": 59
        }
      ]
    },
    {
      "cell_type": "code",
      "metadata": {
        "id": "jQ6XdQvgdFiL"
      },
      "source": [
        "# cm = confusion_matrix(Y_val, Y_pred_logisticRegr)\n",
        "# print (\"Confusion Matrix : \\n\", cm)"
      ],
      "execution_count": null,
      "outputs": []
    },
    {
      "cell_type": "markdown",
      "metadata": {
        "id": "0kf9gwGCFFbN"
      },
      "source": [
        "# Preprocessing  with Merge dataset"
      ]
    },
    {
      "cell_type": "code",
      "metadata": {
        "colab": {
          "base_uri": "https://localhost:8080/",
          "height": 422
        },
        "id": "FCP5f550dXfK",
        "outputId": "0d23f14c-e1ea-4f7d-c065-81b49a7fcff9"
      },
      "source": [
        "import pickle\n",
        "from datetime import datetime\n",
        "import pandas as pd\n",
        "def custom_date_parser(x): return datetime.strptime(x, \"%Y-%m-%d %H:%M:%S\")\n",
        "def getDaySessions(x):\n",
        "    x = x.hour\n",
        "    if (x >= 6) and (x < 12):\n",
        "        return 'Morning'\n",
        "    elif (x >= 12) and (x < 18):\n",
        "        return'Noon'\n",
        "    elif (x >= 18) and (x < 24):\n",
        "        return'Eve'\n",
        "    elif (x < 6 or x == 24):\n",
        "        return'Night'\n",
        "def isWeekend(x):\n",
        "    if x==6  or x==5:\n",
        "        return \"weekend\"\n",
        "    else :\n",
        "        return \"weekday\"\n",
        "df = pd.read_csv(path_data,index_col=0, parse_dates=[\n",
        "                 'date'], date_parser=custom_date_parser)\n",
        "df['day_of_week'] = df['date'].dt.dayofweek\n",
        "df['day_of_week'] = df['day_of_week'].apply(isWeekend)\n",
        "df['timeofday'] = df['date'].apply(getDaySessions)\n",
        "df=df.drop(columns=['date'])\n",
        "df=pd.get_dummies(df, columns=['day_of_week', 'timeofday'])\n",
        "df"
      ],
      "execution_count": null,
      "outputs": [
        {
          "output_type": "execute_result",
          "data": {
            "text/html": [
              "<div>\n",
              "<style scoped>\n",
              "    .dataframe tbody tr th:only-of-type {\n",
              "        vertical-align: middle;\n",
              "    }\n",
              "\n",
              "    .dataframe tbody tr th {\n",
              "        vertical-align: top;\n",
              "    }\n",
              "\n",
              "    .dataframe thead th {\n",
              "        text-align: right;\n",
              "    }\n",
              "</style>\n",
              "<table border=\"1\" class=\"dataframe\">\n",
              "  <thead>\n",
              "    <tr style=\"text-align: right;\">\n",
              "      <th></th>\n",
              "      <th>Temperature</th>\n",
              "      <th>Humidity</th>\n",
              "      <th>Light</th>\n",
              "      <th>CO2</th>\n",
              "      <th>HumidityRatio</th>\n",
              "      <th>Occupancy</th>\n",
              "      <th>day_of_week_weekday</th>\n",
              "      <th>day_of_week_weekend</th>\n",
              "      <th>timeofday_Eve</th>\n",
              "      <th>timeofday_Morning</th>\n",
              "      <th>timeofday_Night</th>\n",
              "      <th>timeofday_Noon</th>\n",
              "    </tr>\n",
              "  </thead>\n",
              "  <tbody>\n",
              "    <tr>\n",
              "      <th>0</th>\n",
              "      <td>23.7000</td>\n",
              "      <td>26.2720</td>\n",
              "      <td>585.200000</td>\n",
              "      <td>749.200000</td>\n",
              "      <td>0.004764</td>\n",
              "      <td>1</td>\n",
              "      <td>1</td>\n",
              "      <td>0</td>\n",
              "      <td>0</td>\n",
              "      <td>0</td>\n",
              "      <td>0</td>\n",
              "      <td>1</td>\n",
              "    </tr>\n",
              "    <tr>\n",
              "      <th>1</th>\n",
              "      <td>23.7180</td>\n",
              "      <td>26.2900</td>\n",
              "      <td>578.400000</td>\n",
              "      <td>760.400000</td>\n",
              "      <td>0.004773</td>\n",
              "      <td>1</td>\n",
              "      <td>1</td>\n",
              "      <td>0</td>\n",
              "      <td>0</td>\n",
              "      <td>0</td>\n",
              "      <td>0</td>\n",
              "      <td>1</td>\n",
              "    </tr>\n",
              "    <tr>\n",
              "      <th>2</th>\n",
              "      <td>23.7300</td>\n",
              "      <td>26.2300</td>\n",
              "      <td>572.666667</td>\n",
              "      <td>769.666667</td>\n",
              "      <td>0.004765</td>\n",
              "      <td>1</td>\n",
              "      <td>1</td>\n",
              "      <td>0</td>\n",
              "      <td>0</td>\n",
              "      <td>0</td>\n",
              "      <td>0</td>\n",
              "      <td>1</td>\n",
              "    </tr>\n",
              "    <tr>\n",
              "      <th>3</th>\n",
              "      <td>23.7225</td>\n",
              "      <td>26.1250</td>\n",
              "      <td>493.750000</td>\n",
              "      <td>774.750000</td>\n",
              "      <td>0.004744</td>\n",
              "      <td>1</td>\n",
              "      <td>1</td>\n",
              "      <td>0</td>\n",
              "      <td>0</td>\n",
              "      <td>0</td>\n",
              "      <td>0</td>\n",
              "      <td>1</td>\n",
              "    </tr>\n",
              "    <tr>\n",
              "      <th>4</th>\n",
              "      <td>23.7540</td>\n",
              "      <td>26.2000</td>\n",
              "      <td>488.600000</td>\n",
              "      <td>779.000000</td>\n",
              "      <td>0.004767</td>\n",
              "      <td>1</td>\n",
              "      <td>1</td>\n",
              "      <td>0</td>\n",
              "      <td>0</td>\n",
              "      <td>0</td>\n",
              "      <td>0</td>\n",
              "      <td>1</td>\n",
              "    </tr>\n",
              "    <tr>\n",
              "      <th>...</th>\n",
              "      <td>...</td>\n",
              "      <td>...</td>\n",
              "      <td>...</td>\n",
              "      <td>...</td>\n",
              "      <td>...</td>\n",
              "      <td>...</td>\n",
              "      <td>...</td>\n",
              "      <td>...</td>\n",
              "      <td>...</td>\n",
              "      <td>...</td>\n",
              "      <td>...</td>\n",
              "      <td>...</td>\n",
              "    </tr>\n",
              "    <tr>\n",
              "      <th>20555</th>\n",
              "      <td>20.8150</td>\n",
              "      <td>27.7175</td>\n",
              "      <td>429.750000</td>\n",
              "      <td>1505.250000</td>\n",
              "      <td>0.004213</td>\n",
              "      <td>1</td>\n",
              "      <td>1</td>\n",
              "      <td>0</td>\n",
              "      <td>0</td>\n",
              "      <td>1</td>\n",
              "      <td>0</td>\n",
              "      <td>0</td>\n",
              "    </tr>\n",
              "    <tr>\n",
              "      <th>20556</th>\n",
              "      <td>20.8650</td>\n",
              "      <td>27.7450</td>\n",
              "      <td>423.500000</td>\n",
              "      <td>1514.500000</td>\n",
              "      <td>0.004230</td>\n",
              "      <td>1</td>\n",
              "      <td>1</td>\n",
              "      <td>0</td>\n",
              "      <td>0</td>\n",
              "      <td>1</td>\n",
              "      <td>0</td>\n",
              "      <td>0</td>\n",
              "    </tr>\n",
              "    <tr>\n",
              "      <th>20557</th>\n",
              "      <td>20.8900</td>\n",
              "      <td>27.7450</td>\n",
              "      <td>423.500000</td>\n",
              "      <td>1521.500000</td>\n",
              "      <td>0.004237</td>\n",
              "      <td>1</td>\n",
              "      <td>1</td>\n",
              "      <td>0</td>\n",
              "      <td>0</td>\n",
              "      <td>1</td>\n",
              "      <td>0</td>\n",
              "      <td>0</td>\n",
              "    </tr>\n",
              "    <tr>\n",
              "      <th>20558</th>\n",
              "      <td>20.8900</td>\n",
              "      <td>28.0225</td>\n",
              "      <td>418.750000</td>\n",
              "      <td>1632.000000</td>\n",
              "      <td>0.004279</td>\n",
              "      <td>1</td>\n",
              "      <td>1</td>\n",
              "      <td>0</td>\n",
              "      <td>0</td>\n",
              "      <td>1</td>\n",
              "      <td>0</td>\n",
              "      <td>0</td>\n",
              "    </tr>\n",
              "    <tr>\n",
              "      <th>20559</th>\n",
              "      <td>21.0000</td>\n",
              "      <td>28.1000</td>\n",
              "      <td>409.000000</td>\n",
              "      <td>1864.000000</td>\n",
              "      <td>0.004321</td>\n",
              "      <td>1</td>\n",
              "      <td>1</td>\n",
              "      <td>0</td>\n",
              "      <td>0</td>\n",
              "      <td>1</td>\n",
              "      <td>0</td>\n",
              "      <td>0</td>\n",
              "    </tr>\n",
              "  </tbody>\n",
              "</table>\n",
              "<p>20560 rows × 12 columns</p>\n",
              "</div>"
            ],
            "text/plain": [
              "       Temperature  Humidity  ...  timeofday_Night  timeofday_Noon\n",
              "0          23.7000   26.2720  ...                0               1\n",
              "1          23.7180   26.2900  ...                0               1\n",
              "2          23.7300   26.2300  ...                0               1\n",
              "3          23.7225   26.1250  ...                0               1\n",
              "4          23.7540   26.2000  ...                0               1\n",
              "...            ...       ...  ...              ...             ...\n",
              "20555      20.8150   27.7175  ...                0               0\n",
              "20556      20.8650   27.7450  ...                0               0\n",
              "20557      20.8900   27.7450  ...                0               0\n",
              "20558      20.8900   28.0225  ...                0               0\n",
              "20559      21.0000   28.1000  ...                0               0\n",
              "\n",
              "[20560 rows x 12 columns]"
            ]
          },
          "metadata": {
            "tags": []
          },
          "execution_count": 7
        }
      ]
    },
    {
      "cell_type": "code",
      "metadata": {
        "id": "BXFh28gfew_p"
      },
      "source": [
        "feature_cols = df.columns.tolist()\n",
        "feature_cols.remove('Occupancy')\n",
        "lable_cols = [\"Occupancy\"]\n",
        "X = df[feature_cols].to_numpy()\n",
        "Y = df[lable_cols].to_numpy()"
      ],
      "execution_count": null,
      "outputs": []
    },
    {
      "cell_type": "code",
      "metadata": {
        "colab": {
          "base_uri": "https://localhost:8080/"
        },
        "id": "DYT--UBK4fnB",
        "outputId": "b9604750-79b8-4bad-e208-74b24551bca0"
      },
      "source": [
        "## Split data by 'Occupancy' value (0 or 1)\n",
        "data = np.hstack([X, Y])\n",
        "data_0 = data[:,:][data[:, -1] == 0]  # Data with 'Occupancy' = 0\n",
        "data_1 = data[:,:][data[:, -1] == 1]  # Data with 'Occupancy' = 1\n",
        "print(data_0.shape)\n",
        "print(data_1.shape)"
      ],
      "execution_count": null,
      "outputs": [
        {
          "output_type": "stream",
          "text": [
            "(15810, 12)\n",
            "(4750, 12)\n"
          ],
          "name": "stdout"
        }
      ]
    },
    {
      "cell_type": "code",
      "metadata": {
        "id": "KNTZsjBfUiy6",
        "colab": {
          "base_uri": "https://localhost:8080/"
        },
        "outputId": "b528c702-e666-49c2-97d4-09ef58e17438"
      },
      "source": [
        "## Train_Test split\n",
        "\n",
        "np.random.shuffle(data_0)\n",
        "idx_0 = int(data_0.shape[0] * 70 / 100)\n",
        "train_0 = data_0[: idx_0, :]\n",
        "test_0 = data_0[idx_0: , :]\n",
        "\n",
        "np.random.shuffle(data_1)\n",
        "idx_1 = int(data_1.shape[0] * 70 / 100)\n",
        "train_1 = data_1[: idx_1, :]\n",
        "test_1 = data_1[idx_1: , :]\n",
        "\n",
        "train_new = np.vstack([train_0, train_1])\n",
        "test_new = np.vstack([test_0, test_1])\n",
        "\n",
        "print(train_0.shape)\n",
        "print(test_0.shape)\n",
        "print(train_1.shape)\n",
        "print(test_1.shape)\n",
        "print('')\n",
        "print(train_new.shape)"
      ],
      "execution_count": null,
      "outputs": [
        {
          "output_type": "stream",
          "text": [
            "(11067, 12)\n",
            "(4743, 12)\n",
            "(3325, 12)\n",
            "(1425, 12)\n",
            "\n",
            "(14392, 12)\n"
          ],
          "name": "stdout"
        }
      ]
    },
    {
      "cell_type": "code",
      "metadata": {
        "colab": {
          "base_uri": "https://localhost:8080/"
        },
        "id": "Rq59oPYiDRx8",
        "outputId": "82f0f6ee-27ef-4551-dbc4-3b4cf305d394"
      },
      "source": [
        "# Split to Features X and target Y\n",
        "X_train_new = train_new[:, :-1]\n",
        "Y_train_new = train_new[:, -1:].astype(np.int64)\n",
        "\n",
        "X_test_new = test_new[:, :-1]\n",
        "Y_test_new = test_new[:, -1:].astype(np.int64)\n",
        "\n",
        "print(X_train_new.shape, Y_train_new.shape)\n",
        "print(X_test_new.shape, Y_test_new.shape)"
      ],
      "execution_count": null,
      "outputs": [
        {
          "output_type": "stream",
          "text": [
            "(14392, 11) (14392, 1)\n",
            "(6168, 11) (6168, 1)\n"
          ],
          "name": "stdout"
        }
      ]
    },
    {
      "cell_type": "markdown",
      "metadata": {
        "id": "NRbv9LFoFUDg"
      },
      "source": [
        "# **Decision Tree Classifier...**"
      ]
    },
    {
      "cell_type": "code",
      "metadata": {
        "id": "FoGK2z5kFUDg"
      },
      "source": [
        "model_dct_new = DecisionTreeClassifier(ccp_alpha=0.1).fit(X_train_new, Y_train_new.ravel())  # ccp_alpha tăng thì số nhánh giảm"
      ],
      "execution_count": null,
      "outputs": []
    },
    {
      "cell_type": "code",
      "metadata": {
        "colab": {
          "base_uri": "https://localhost:8080/"
        },
        "id": "7upa0uiW7N--",
        "outputId": "90a45167-c6d7-41df-c2f4-a719c9395049"
      },
      "source": [
        "model_dct_new"
      ],
      "execution_count": null,
      "outputs": [
        {
          "output_type": "execute_result",
          "data": {
            "text/plain": [
              "DecisionTreeClassifier(ccp_alpha=0.1, class_weight=None, criterion='gini',\n",
              "                       max_depth=None, max_features=None, max_leaf_nodes=None,\n",
              "                       min_impurity_decrease=0.0, min_impurity_split=None,\n",
              "                       min_samples_leaf=1, min_samples_split=2,\n",
              "                       min_weight_fraction_leaf=0.0, presort='deprecated',\n",
              "                       random_state=None, splitter='best')"
            ]
          },
          "metadata": {
            "tags": []
          },
          "execution_count": 14
        }
      ]
    },
    {
      "cell_type": "code",
      "metadata": {
        "id": "51JTtyyJ2uqz"
      },
      "source": [
        "# Xuất model\n",
        "filename = type(model_dct_new).__name__ + \".pkl\"\n",
        "filehandler = open(filename, \"wb\")\n",
        "\n",
        "pickle.dump(model_dct_new, filehandler)"
      ],
      "execution_count": null,
      "outputs": []
    },
    {
      "cell_type": "code",
      "metadata": {
        "id": "yggrDRfxFUDg"
      },
      "source": [
        "Y_pred_decisionTree_new = model_dct_new.predict(X_test_new)"
      ],
      "execution_count": null,
      "outputs": []
    },
    {
      "cell_type": "code",
      "metadata": {
        "colab": {
          "base_uri": "https://localhost:8080/"
        },
        "id": "-40r_C__FUDg",
        "outputId": "704c5904-e49d-46de-f5af-8b1b88f26668"
      },
      "source": [
        "target_names = ['class 0', 'class 1']\n",
        "print(classification_report(Y_test_new, Y_pred_decisionTree_new, target_names=target_names))\n",
        "print('\\nAccuracy: %.6f' % accuracy_score(Y_test_new, Y_pred_decisionTree_new))"
      ],
      "execution_count": null,
      "outputs": [
        {
          "output_type": "stream",
          "text": [
            "              precision    recall  f1-score   support\n",
            "\n",
            "     class 0       1.00      0.99      0.99      4743\n",
            "     class 1       0.96      1.00      0.98      1425\n",
            "\n",
            "    accuracy                           0.99      6168\n",
            "   macro avg       0.98      0.99      0.99      6168\n",
            "weighted avg       0.99      0.99      0.99      6168\n",
            "\n",
            "\n",
            "Accuracy: 0.990110\n"
          ],
          "name": "stdout"
        }
      ]
    },
    {
      "cell_type": "code",
      "metadata": {
        "id": "j7LCx88m4JIT"
      },
      "source": [
        "target_names = ['class 0', 'class 1']\n",
        "report=classification_report(Y_test_new, Y_pred_decisionTree_new, target_names=target_names,output_dict=True)\n",
        "dt = pd.DataFrame(report).transpose()\n",
        "dt.to_csv(\"DecisionTreeClassifier_info\"+\".csv\")"
      ],
      "execution_count": null,
      "outputs": []
    },
    {
      "cell_type": "code",
      "metadata": {
        "colab": {
          "base_uri": "https://localhost:8080/",
          "height": 446
        },
        "id": "2sHNtKYnkV6Q",
        "outputId": "7757bd12-6595-4699-bd40-2fbf0ef7f1bf"
      },
      "source": [
        "print('\\nAccuracy: %.6f' % accuracy_score(Y_test_new, Y_pred_decisionTree_new))\n",
        "print('\\nPrecision: %.6f' % precision_score(Y_test_new, Y_pred_decisionTree_new))\n",
        "print('\\nRecall: %.6f' % recall_score(Y_test_new, Y_pred_decisionTree_new))\n",
        "print('\\nF1: %.6f' % f1_score(Y_test_new, Y_pred_decisionTree_new))\n",
        "\n",
        "disp = plot_confusion_matrix(model_dct_new, X_test_new, Y_test_new,\n",
        "        display_labels=['0', '1'], cmap=plt.cm.Blues, values_format = '.0f')\n",
        "disp.ax_.set_title('Confusion Matrix')"
      ],
      "execution_count": null,
      "outputs": [
        {
          "output_type": "stream",
          "text": [
            "\n",
            "Accuracy: 0.989948\n",
            "\n",
            "Precision: 0.963921\n",
            "\n",
            "Recall: 0.993684\n",
            "\n",
            "F1: 0.978576\n"
          ],
          "name": "stdout"
        },
        {
          "output_type": "execute_result",
          "data": {
            "text/plain": [
              "Text(0.5, 1.0, 'Confusion Matrix')"
            ]
          },
          "metadata": {
            "tags": []
          },
          "execution_count": 349
        },
        {
          "output_type": "display_data",
          "data": {
            "image/png": "[encoded data removed]",
            "text/plain": [
              "<Figure size 432x288 with 2 Axes>"
            ]
          },
          "metadata": {
            "tags": [],
            "needs_background": "light"
          }
        }
      ]
    },
    {
      "cell_type": "markdown",
      "metadata": {
        "id": "hbh3iju-8AWM"
      },
      "source": [
        "## **Grid Search**"
      ]
    },
    {
      "cell_type": "code",
      "metadata": {
        "id": "aP5tLtN48AWM"
      },
      "source": [
        "# Grid Search\n",
        "pipe = Pipeline([('classifier' , DecisionTreeClassifier())])\n",
        "param_grid = [\n",
        "    {'classifier' : [DecisionTreeClassifier()],\n",
        "     'classifier__ccp_alpha': np.linspace(0.0, 0.1, 10, endpoint=True),\n",
        "     'classifier__max_depth': [2,3,4,5,12,16,20],\n",
        "     'classifier__min_samples_split' : [2, 3, 4],\n",
        "    'classifier__min_samples_leaf' : [1, 2, 5, 10],\n",
        "    'classifier__max_features' : ['None','auto', 'sqrt', 'log2']}\n",
        "]\n",
        "\n",
        "clf_new = GridSearchCV(pipe, param_grid = param_grid, cv = 5, verbose=True,\n",
        "            n_jobs=-1, scoring = 'accuracy')"
      ],
      "execution_count": null,
      "outputs": []
    },
    {
      "cell_type": "code",
      "metadata": {
        "colab": {
          "base_uri": "https://localhost:8080/"
        },
        "id": "qvRzj2kO8AWM",
        "outputId": "24a6bde2-db41-43fe-d298-ac2898d1a40b"
      },
      "source": [
        "best_clf_decisionTree_new = clf_new.fit(X_train_new, Y_train_new.ravel())"
      ],
      "execution_count": null,
      "outputs": [
        {
          "output_type": "stream",
          "text": [
            "Fitting 5 folds for each of 3360 candidates, totalling 16800 fits\n"
          ],
          "name": "stdout"
        },
        {
          "output_type": "stream",
          "text": [
            "[Parallel(n_jobs=-1)]: Using backend LokyBackend with 2 concurrent workers.\n",
            "[Parallel(n_jobs=-1)]: Done 360 tasks      | elapsed:    2.7s\n",
            "[Parallel(n_jobs=-1)]: Done 2760 tasks      | elapsed:   18.1s\n",
            "[Parallel(n_jobs=-1)]: Done 6760 tasks      | elapsed:   44.8s\n",
            "[Parallel(n_jobs=-1)]: Done 12360 tasks      | elapsed:  1.3min\n",
            "[Parallel(n_jobs=-1)]: Done 16800 out of 16800 | elapsed:  1.8min finished\n"
          ],
          "name": "stderr"
        }
      ]
    },
    {
      "cell_type": "code",
      "metadata": {
        "id": "OxyXOoce3EPb"
      },
      "source": [
        "# Xuất model\n",
        "filename = \"DecisionTreeClassifier_grid.pkl\"\n",
        "filehandler = open(filename, \"wb\")\n",
        "\n",
        "pickle.dump(best_clf_decisionTree_new, filehandler)"
      ],
      "execution_count": null,
      "outputs": []
    },
    {
      "cell_type": "code",
      "metadata": {
        "colab": {
          "base_uri": "https://localhost:8080/"
        },
        "id": "BRlr0ZCE8AWN",
        "outputId": "0bb41b3b-57a5-409d-d011-df49ea5f718a"
      },
      "source": [
        "best_clf_decisionTree_new.best_params_"
      ],
      "execution_count": null,
      "outputs": [
        {
          "output_type": "execute_result",
          "data": {
            "text/plain": [
              "{'classifier': DecisionTreeClassifier(ccp_alpha=0.0, class_weight=None, criterion='gini',\n",
              "                        max_depth=20, max_features='log2', max_leaf_nodes=None,\n",
              "                        min_impurity_decrease=0.0, min_impurity_split=None,\n",
              "                        min_samples_leaf=1, min_samples_split=2,\n",
              "                        min_weight_fraction_leaf=0.0, presort='deprecated',\n",
              "                        random_state=None, splitter='best'),\n",
              " 'classifier__ccp_alpha': 0.0,\n",
              " 'classifier__max_depth': 20,\n",
              " 'classifier__max_features': 'log2',\n",
              " 'classifier__min_samples_leaf': 1,\n",
              " 'classifier__min_samples_split': 2}"
            ]
          },
          "metadata": {
            "tags": []
          },
          "execution_count": 352
        }
      ]
    },
    {
      "cell_type": "code",
      "metadata": {
        "id": "CSemdvL28AWN"
      },
      "source": [
        "Y_pred_decisionTree_new = best_clf_decisionTree_new.predict(X_test_new)"
      ],
      "execution_count": null,
      "outputs": []
    },
    {
      "cell_type": "code",
      "metadata": {
        "colab": {
          "base_uri": "https://localhost:8080/"
        },
        "id": "E2R4TwlR8AWN",
        "outputId": "eb887828-14a0-453d-9278-eec442ca3422"
      },
      "source": [
        "target_names = ['class 0', 'class 1']\n",
        "print(classification_report(Y_test_new, Y_pred_decisionTree_new, target_names=target_names))\n",
        "print('\\nAccuracy: %.6f' % accuracy_score(Y_test_new, Y_pred_decisionTree_new))"
      ],
      "execution_count": null,
      "outputs": [
        {
          "output_type": "stream",
          "text": [
            "              precision    recall  f1-score   support\n",
            "\n",
            "     class 0       0.99      0.99      0.99      4743\n",
            "     class 1       0.98      0.98      0.98      1425\n",
            "\n",
            "    accuracy                           0.99      6168\n",
            "   macro avg       0.99      0.99      0.99      6168\n",
            "weighted avg       0.99      0.99      0.99      6168\n",
            "\n",
            "\n",
            "Accuracy: 0.990921\n"
          ],
          "name": "stdout"
        }
      ]
    },
    {
      "cell_type": "code",
      "metadata": {
        "id": "P0ZCZd-R6H69"
      },
      "source": [
        "target_names = ['class 0', 'class 1']\n",
        "report=classification_report(Y_test_new, Y_pred_decisionTree_new, target_names=target_names,output_dict=True)\n",
        "dt = pd.DataFrame(report).transpose()\n",
        "dt.to_csv(\"DecisionTreeClassifier_grid_info\"+\".csv\")"
      ],
      "execution_count": null,
      "outputs": []
    },
    {
      "cell_type": "code",
      "metadata": {
        "colab": {
          "base_uri": "https://localhost:8080/",
          "height": 446
        },
        "id": "hnj-pQKpzq7F",
        "outputId": "23468f75-09ae-4952-a937-a20200133b26"
      },
      "source": [
        "print('\\nAccuracy: %.6f' % accuracy_score(Y_test_new, Y_pred_decisionTree_new))\n",
        "print('\\nPrecision: %.6f' % precision_score(Y_test_new, Y_pred_decisionTree_new))\n",
        "print('\\nRecall: %.6f' % recall_score(Y_test_new, Y_pred_decisionTree_new))\n",
        "print('\\nF1: %.6f' % f1_score(Y_test_new, Y_pred_decisionTree_new))\n",
        "\n",
        "disp = plot_confusion_matrix(best_clf_decisionTree_new, X_test_new, Y_test_new,\n",
        "        display_labels=['0', '1'], cmap=plt.cm.Blues, values_format = '.0f')\n",
        "disp.ax_.set_title('Confusion Matrix')"
      ],
      "execution_count": null,
      "outputs": [
        {
          "output_type": "stream",
          "text": [
            "\n",
            "Accuracy: 0.990921\n",
            "\n",
            "Precision: 0.982382\n",
            "\n",
            "Recall: 0.978246\n",
            "\n",
            "F1: 0.980309\n"
          ],
          "name": "stdout"
        },
        {
          "output_type": "execute_result",
          "data": {
            "text/plain": [
              "Text(0.5, 1.0, 'Confusion Matrix')"
            ]
          },
          "metadata": {
            "tags": []
          },
          "execution_count": 355
        },
        {
          "output_type": "display_data",
          "data": {
            "image/png": "[encoded data removed]",
            "text/plain": [
              "<Figure size 432x288 with 2 Axes>"
            ]
          },
          "metadata": {
            "tags": [],
            "needs_background": "light"
          }
        }
      ]
    },
    {
      "cell_type": "markdown",
      "metadata": {
        "id": "TVnKYJ0UH38N"
      },
      "source": [
        "# **Gaussian Naive Bayes...**"
      ]
    },
    {
      "cell_type": "code",
      "metadata": {
        "id": "HH8_7n-pH38N"
      },
      "source": [
        "model_gnb_new = GaussianNB().fit(X_train_new, Y_train_new.ravel())"
      ],
      "execution_count": null,
      "outputs": []
    },
    {
      "cell_type": "code",
      "metadata": {
        "colab": {
          "base_uri": "https://localhost:8080/"
        },
        "id": "NFbBoj8KBoO_",
        "outputId": "c5349ea9-50bf-42b7-b6d0-a50a441c51f7"
      },
      "source": [
        "model_gnb_new"
      ],
      "execution_count": null,
      "outputs": [
        {
          "output_type": "execute_result",
          "data": {
            "text/plain": [
              "GaussianNB(priors=None, var_smoothing=1e-09)"
            ]
          },
          "metadata": {
            "tags": []
          },
          "execution_count": 37
        }
      ]
    },
    {
      "cell_type": "code",
      "metadata": {
        "id": "uKc_HDCr22e1"
      },
      "source": [
        "# Xuất model\n",
        "filename = type(model_gnb_new).__name__ + \".pkl\"\n",
        "filehandler = open(filename, \"wb\")\n",
        "\n",
        "pickle.dump(model_gnb_new, filehandler)"
      ],
      "execution_count": null,
      "outputs": []
    },
    {
      "cell_type": "code",
      "metadata": {
        "id": "y3V7sU97H38N"
      },
      "source": [
        "Y_pred_GaussianNB_new = model_gnb_new.predict(X_test_new)"
      ],
      "execution_count": null,
      "outputs": []
    },
    {
      "cell_type": "code",
      "metadata": {
        "colab": {
          "base_uri": "https://localhost:8080/"
        },
        "id": "woWNL5eoH38N",
        "outputId": "f4ddcce8-e253-41f8-888c-7a2b2309b729"
      },
      "source": [
        "target_names = ['class 0', 'class 1']\n",
        "print(classification_report(Y_test_new, Y_pred_GaussianNB_new, target_names=target_names))\n",
        "print('\\nAccuracy: %.6f' % accuracy_score(Y_test_new, Y_pred_GaussianNB_new))"
      ],
      "execution_count": null,
      "outputs": [
        {
          "output_type": "stream",
          "text": [
            "              precision    recall  f1-score   support\n",
            "\n",
            "     class 0       0.99      0.95      0.97      4743\n",
            "     class 1       0.85      0.98      0.91      1425\n",
            "\n",
            "    accuracy                           0.96      6168\n",
            "   macro avg       0.92      0.96      0.94      6168\n",
            "weighted avg       0.96      0.96      0.96      6168\n",
            "\n",
            "\n",
            "Accuracy: 0.956388\n"
          ],
          "name": "stdout"
        }
      ]
    },
    {
      "cell_type": "code",
      "metadata": {
        "id": "rdtRsliZ6YMe"
      },
      "source": [
        "target_names = ['class 0', 'class 1']\n",
        "report=classification_report(Y_test_new, Y_pred_GaussianNB_new, target_names=target_names,output_dict=True)\n",
        "dt = pd.DataFrame(report).transpose()\n",
        "dt.to_csv(\"GaussianNB_info\"+\".csv\")"
      ],
      "execution_count": null,
      "outputs": []
    },
    {
      "cell_type": "code",
      "metadata": {
        "colab": {
          "base_uri": "https://localhost:8080/",
          "height": 446
        },
        "id": "YaJY3JqWo2bH",
        "outputId": "f0eee12a-c205-45d5-c426-6e7c14f887f1"
      },
      "source": [
        "print('\\nAccuracy: %.6f' % accuracy_score(Y_test_new, Y_pred_GaussianNB_new))\n",
        "print('\\nPrecision: %.6f' % precision_score(Y_test_new, Y_pred_GaussianNB_new))\n",
        "print('\\nRecall: %.6f' % recall_score(Y_test_new, Y_pred_GaussianNB_new))\n",
        "print('\\nF1: %.6f' % f1_score(Y_test_new, Y_pred_GaussianNB_new))\n",
        "\n",
        "disp = plot_confusion_matrix(model_gnb_new, X_test_new, Y_test_new,\n",
        "        display_labels=['0', '1'], cmap=plt.cm.Blues, values_format = '.0f')\n",
        "disp.ax_.set_title('Confusion Matrix')"
      ],
      "execution_count": null,
      "outputs": [
        {
          "output_type": "stream",
          "text": [
            "\n",
            "Accuracy: 0.956388\n",
            "\n",
            "Precision: 0.854167\n",
            "\n",
            "Recall: 0.978246\n",
            "\n",
            "F1: 0.912005\n"
          ],
          "name": "stdout"
        },
        {
          "output_type": "execute_result",
          "data": {
            "text/plain": [
              "Text(0.5, 1.0, 'Confusion Matrix')"
            ]
          },
          "metadata": {
            "tags": []
          },
          "execution_count": 360
        },
        {
          "output_type": "display_data",
          "data": {
            "image/png": "[encoded data removed]",
            "text/plain": [
              "<Figure size 432x288 with 2 Axes>"
            ]
          },
          "metadata": {
            "tags": [],
            "needs_background": "light"
          }
        }
      ]
    },
    {
      "cell_type": "markdown",
      "metadata": {
        "id": "fZKZFE9Qylwu"
      },
      "source": [
        "## **Grid Search**"
      ]
    },
    {
      "cell_type": "code",
      "metadata": {
        "id": "mzRPCZcKylUn"
      },
      "source": [
        "# Grid Search\n",
        "pipe = Pipeline([('classifier' , GaussianNB())])\n",
        "param_grid = [\n",
        "    {'classifier' : [GaussianNB()],\n",
        "     'classifier__var_smoothing' : np.logspace(0,-9, num=100)}\n",
        "]\n",
        "\n",
        "clf_NB = GridSearchCV(pipe, param_grid = param_grid, cv = 5, verbose=True,\n",
        "            n_jobs=-1, scoring = 'accuracy')"
      ],
      "execution_count": null,
      "outputs": []
    },
    {
      "cell_type": "code",
      "metadata": {
        "colab": {
          "base_uri": "https://localhost:8080/"
        },
        "id": "iKl6BGF4zTCh",
        "outputId": "3cddfd98-1170-472b-e020-5d1ae04e45b9"
      },
      "source": [
        "best_clf_NB = clf_NB.fit(X_train_new, Y_train_new.ravel())"
      ],
      "execution_count": null,
      "outputs": [
        {
          "output_type": "stream",
          "text": [
            "Fitting 5 folds for each of 100 candidates, totalling 500 fits\n"
          ],
          "name": "stdout"
        },
        {
          "output_type": "stream",
          "text": [
            "[Parallel(n_jobs=-1)]: Using backend LokyBackend with 2 concurrent workers.\n",
            "[Parallel(n_jobs=-1)]: Done 480 tasks      | elapsed:    2.4s\n",
            "[Parallel(n_jobs=-1)]: Done 500 out of 500 | elapsed:    2.5s finished\n"
          ],
          "name": "stderr"
        }
      ]
    },
    {
      "cell_type": "code",
      "metadata": {
        "colab": {
          "base_uri": "https://localhost:8080/"
        },
        "id": "rz7bQ6Kz0SlJ",
        "outputId": "847ea727-ac0a-4014-ac8f-0c415257a2b9"
      },
      "source": [
        "best_clf_NB.best_params_"
      ],
      "execution_count": null,
      "outputs": [
        {
          "output_type": "execute_result",
          "data": {
            "text/plain": [
              "{'classifier': GaussianNB(priors=None, var_smoothing=0.1873817422860384),\n",
              " 'classifier__var_smoothing': 0.1873817422860384}"
            ]
          },
          "metadata": {
            "tags": []
          },
          "execution_count": 49
        }
      ]
    },
    {
      "cell_type": "code",
      "metadata": {
        "id": "fRUY6DCvzh2s"
      },
      "source": [
        "Y_pred_GaussianNB_new = best_clf_NB.predict(X_test_new)"
      ],
      "execution_count": null,
      "outputs": []
    },
    {
      "cell_type": "code",
      "metadata": {
        "colab": {
          "base_uri": "https://localhost:8080/"
        },
        "id": "FQEE0pQf0SAI",
        "outputId": "0e712375-90ec-4830-b881-6ae5b4ce0903"
      },
      "source": [
        "target_names = ['class 0', 'class 1']\n",
        "print(classification_report(Y_test_new, Y_pred_GaussianNB_new, target_names=target_names))\n",
        "print('\\nAccuracy: %.6f' % accuracy_score(Y_test_new, Y_pred_GaussianNB_new))"
      ],
      "execution_count": null,
      "outputs": [
        {
          "output_type": "stream",
          "text": [
            "              precision    recall  f1-score   support\n",
            "\n",
            "     class 0       1.00      0.98      0.99      4743\n",
            "     class 1       0.95      1.00      0.97      1425\n",
            "\n",
            "    accuracy                           0.99      6168\n",
            "   macro avg       0.97      0.99      0.98      6168\n",
            "weighted avg       0.99      0.99      0.99      6168\n",
            "\n",
            "\n",
            "Accuracy: 0.987516\n"
          ],
          "name": "stdout"
        }
      ]
    },
    {
      "cell_type": "code",
      "metadata": {
        "colab": {
          "base_uri": "https://localhost:8080/",
          "height": 446
        },
        "id": "ckYr0j1l1A0I",
        "outputId": "c48092cb-5601-4cb3-ffce-19b78a466ab5"
      },
      "source": [
        "print('\\nAccuracy: %.6f' % accuracy_score(Y_test_new, Y_pred_GaussianNB_new))\n",
        "print('\\nPrecision: %.6f' % precision_score(Y_test_new, Y_pred_GaussianNB_new))\n",
        "print('\\nRecall: %.6f' % recall_score(Y_test_new, Y_pred_GaussianNB_new))\n",
        "print('\\nF1: %.6f' % f1_score(Y_test_new, Y_pred_GaussianNB_new))\n",
        "\n",
        "disp = plot_confusion_matrix(best_clf_NB, X_test_new, Y_test_new,\n",
        "        display_labels=['0', '1'], cmap=plt.cm.Blues, values_format = '.0f')\n",
        "disp.ax_.set_title('Confusion Matrix')"
      ],
      "execution_count": null,
      "outputs": [
        {
          "output_type": "stream",
          "text": [
            "\n",
            "Accuracy: 0.987516\n",
            "\n",
            "Precision: 0.949333\n",
            "\n",
            "Recall: 0.999298\n",
            "\n",
            "F1: 0.973675\n"
          ],
          "name": "stdout"
        },
        {
          "output_type": "execute_result",
          "data": {
            "text/plain": [
              "Text(0.5, 1.0, 'Confusion Matrix')"
            ]
          },
          "metadata": {
            "tags": []
          },
          "execution_count": 56
        },
        {
          "output_type": "display_data",
          "data": {
            "image/png": "[encoded data removed]",
            "text/plain": [
              "<Figure size 432x288 with 2 Axes>"
            ]
          },
          "metadata": {
            "tags": [],
            "needs_background": "light"
          }
        }
      ]
    },
    {
      "cell_type": "markdown",
      "metadata": {
        "id": "Pgi40v_cK0Ih"
      },
      "source": [
        "# **Logistic Regression...**"
      ]
    },
    {
      "cell_type": "code",
      "metadata": {
        "id": "qTINklQYsGpf"
      },
      "source": [
        "from sklearn.preprocessing import MinMaxScaler\n",
        "\n",
        "scaler = MinMaxScaler()\n",
        "model_scale = scaler.fit(X_train_new)\n",
        "X_train_n = scaler.transform(X_train_new)\n",
        "X_test_n = scaler.transform(X_test_new)"
      ],
      "execution_count": null,
      "outputs": []
    },
    {
      "cell_type": "code",
      "metadata": {
        "id": "f80_HI-ru4lm",
        "colab": {
          "base_uri": "https://localhost:8080/"
        },
        "outputId": "87994706-f5e5-46d3-bb81-46ce796253e6"
      },
      "source": [
        "X_train_n"
      ],
      "execution_count": null,
      "outputs": [
        {
          "output_type": "execute_result",
          "data": {
            "text/plain": [
              "array([[0.30508475, 0.80074857, 0.02972802, ..., 0.        , 0.        ,\n",
              "        1.        ],\n",
              "       [0.24776579, 0.66490533, 0.        , ..., 0.        , 0.        ,\n",
              "        0.        ],\n",
              "       [0.46224961, 0.39630119, 0.        , ..., 0.        , 0.        ,\n",
              "        0.        ],\n",
              "       ...,\n",
              "       [0.2385208 , 0.60347864, 0.27387729, ..., 1.        , 0.        ,\n",
              "        0.        ],\n",
              "       [0.83821263, 0.25128431, 0.45762176, ..., 1.        , 0.        ,\n",
              "        0.        ],\n",
              "       [0.38828968, 0.85733157, 0.27387729, ..., 1.        , 0.        ,\n",
              "        0.        ]])"
            ]
          },
          "metadata": {
            "tags": []
          },
          "execution_count": 21
        }
      ]
    },
    {
      "cell_type": "code",
      "metadata": {
        "colab": {
          "base_uri": "https://localhost:8080/"
        },
        "id": "8u-1OsFGKv2I",
        "outputId": "fdd92d85-97ed-44c9-9c43-c87c420fec82"
      },
      "source": [
        "# Default model\n",
        "logisticRegr_new = LogisticRegression(solver='liblinear')\n",
        "logisticRegr_new.fit(X_train_n, Y_train_new.ravel())"
      ],
      "execution_count": null,
      "outputs": [
        {
          "output_type": "execute_result",
          "data": {
            "text/plain": [
              "LogisticRegression(C=1.0, class_weight=None, dual=False, fit_intercept=True,\n",
              "                   intercept_scaling=1, l1_ratio=None, max_iter=100,\n",
              "                   multi_class='auto', n_jobs=None, penalty='l2',\n",
              "                   random_state=None, solver='liblinear', tol=0.0001, verbose=0,\n",
              "                   warm_start=False)"
            ]
          },
          "metadata": {
            "tags": []
          },
          "execution_count": 404
        }
      ]
    },
    {
      "cell_type": "code",
      "metadata": {
        "id": "EWf-NErn1dZ5"
      },
      "source": [
        "# Xuất model\n",
        "filename = type(logisticRegr_new).__name__ + \".pkl\"\n",
        "filehandler = open(filename, \"wb\")\n",
        "\n",
        "pickle.dump(logisticRegr_new, filehandler)"
      ],
      "execution_count": null,
      "outputs": []
    },
    {
      "cell_type": "code",
      "metadata": {
        "id": "AmNI_6PkKv2I"
      },
      "source": [
        "Y_pred_logisticRegr_new = logisticRegr_new.predict(X_test_n)"
      ],
      "execution_count": null,
      "outputs": []
    },
    {
      "cell_type": "code",
      "metadata": {
        "colab": {
          "base_uri": "https://localhost:8080/"
        },
        "id": "KL-89jj0Kv2I",
        "outputId": "6ce6ee59-250b-4de9-b705-a91ad104629d"
      },
      "source": [
        "target_names = ['class 0', 'class 1']\n",
        "print(classification_report(Y_test_new, Y_pred_logisticRegr_new, target_names=target_names))\n",
        "print('\\nAccuracy: %.6f' % accuracy_score(Y_test_new, Y_pred_logisticRegr_new))"
      ],
      "execution_count": null,
      "outputs": [
        {
          "output_type": "stream",
          "text": [
            "              precision    recall  f1-score   support\n",
            "\n",
            "     class 0       1.00      0.99      0.99      4743\n",
            "     class 1       0.96      0.98      0.97      1425\n",
            "\n",
            "    accuracy                           0.99      6168\n",
            "   macro avg       0.98      0.99      0.98      6168\n",
            "weighted avg       0.99      0.99      0.99      6168\n",
            "\n",
            "\n",
            "Accuracy: 0.987840\n"
          ],
          "name": "stdout"
        }
      ]
    },
    {
      "cell_type": "code",
      "metadata": {
        "id": "3GB0Ohqj6seD"
      },
      "source": [
        "target_names = ['class 0', 'class 1']\n",
        "report=classification_report(Y_test_new, Y_pred_logisticRegr_new, target_names=target_names,output_dict=True)\n",
        "dt = pd.DataFrame(report).transpose()\n",
        "dt.to_csv(\"LogisticRegression_info\"+\".csv\")"
      ],
      "execution_count": null,
      "outputs": []
    },
    {
      "cell_type": "code",
      "metadata": {
        "colab": {
          "base_uri": "https://localhost:8080/",
          "height": 446
        },
        "id": "DJalFi-UrwPX",
        "outputId": "8324921c-3360-49f1-f056-7b4b587a9faf"
      },
      "source": [
        "print('\\nAccuracy: %.6f' % accuracy_score(Y_test_new, Y_pred_logisticRegr_new))\n",
        "print('\\nPrecision: %.6f' % precision_score(Y_test_new, Y_pred_logisticRegr_new))\n",
        "print('\\nRecall: %.6f' % recall_score(Y_test_new, Y_pred_logisticRegr_new))\n",
        "print('\\nF1: %.6f' % f1_score(Y_test_new, Y_pred_logisticRegr_new))\n",
        "\n",
        "disp = plot_confusion_matrix(logisticRegr_new, X_test_new, Y_test_new,\n",
        "        display_labels=['0', '1'], cmap=plt.cm.Blues, values_format = '.0f')\n",
        "disp.ax_.set_title('Confusion Matrix')"
      ],
      "execution_count": null,
      "outputs": [
        {
          "output_type": "stream",
          "text": [
            "\n",
            "Accuracy: 0.987840\n",
            "\n",
            "Precision: 0.964237\n",
            "\n",
            "Recall: 0.983860\n",
            "\n",
            "F1: 0.973949\n"
          ],
          "name": "stdout"
        },
        {
          "output_type": "execute_result",
          "data": {
            "text/plain": [
              "Text(0.5, 1.0, 'Confusion Matrix')"
            ]
          },
          "metadata": {
            "tags": []
          },
          "execution_count": 407
        },
        {
          "output_type": "display_data",
          "data": {
            "image/png": "[encoded data removed]",
            "text/plain": [
              "<Figure size 432x288 with 2 Axes>"
            ]
          },
          "metadata": {
            "tags": [],
            "needs_background": "light"
          }
        }
      ]
    },
    {
      "cell_type": "markdown",
      "metadata": {
        "id": "vOw8B034LX_a"
      },
      "source": [
        "## **Grid Search**"
      ]
    },
    {
      "cell_type": "code",
      "metadata": {
        "id": "wTmGs8k_LX_b"
      },
      "source": [
        "# Grid Search\n",
        "pipe = Pipeline([('classifier' , LogisticRegression())])\n",
        "param_grid = [\n",
        "    {'classifier' : [LogisticRegression()],\n",
        "     'classifier__penalty' : ['l1', 'l2'],\n",
        "     'classifier__C' : np.logspace(-4, 4, 20),\n",
        "     'classifier__class_weight' : ['None', 'balanced'],\n",
        "     'classifier__max_iter': [200],\n",
        "     'classifier__solver' : ['liblinear', 'newton-cg', 'lbfgs', 'sag']}\n",
        "]\n",
        "\n",
        "clf = GridSearchCV(pipe, param_grid = param_grid, cv = 5, verbose=True,\n",
        "            n_jobs=-1, scoring = 'accuracy')"
      ],
      "execution_count": null,
      "outputs": []
    },
    {
      "cell_type": "code",
      "metadata": {
        "colab": {
          "base_uri": "https://localhost:8080/"
        },
        "id": "J7bzNFboLX_b",
        "outputId": "0f19489f-c07a-4651-9605-6e362d5fb860"
      },
      "source": [
        "best_clf_new = clf.fit(X_train_n, Y_train_new.ravel())"
      ],
      "execution_count": null,
      "outputs": [
        {
          "output_type": "stream",
          "text": [
            "Fitting 5 folds for each of 320 candidates, totalling 1600 fits\n"
          ],
          "name": "stdout"
        },
        {
          "output_type": "stream",
          "text": [
            "[Parallel(n_jobs=-1)]: Using backend LokyBackend with 2 concurrent workers.\n",
            "[Parallel(n_jobs=-1)]: Done 192 tasks      | elapsed:    3.8s\n",
            "[Parallel(n_jobs=-1)]: Done 1132 tasks      | elapsed:   37.7s\n",
            "[Parallel(n_jobs=-1)]: Done 1600 out of 1600 | elapsed:  1.8min finished\n"
          ],
          "name": "stderr"
        }
      ]
    },
    {
      "cell_type": "code",
      "metadata": {
        "id": "GSf2qi5h3Z9i"
      },
      "source": [
        "filename = \"LogisticRegression_grid.pkl\"\n",
        "filehandler = open(filename, \"wb\")\n",
        "\n",
        "pickle.dump(best_clf_new, filehandler)"
      ],
      "execution_count": null,
      "outputs": []
    },
    {
      "cell_type": "code",
      "metadata": {
        "id": "MjNGYU_X2QEv"
      },
      "source": [
        "filename = type(best_clf_new).__name__ + \".pkl\"\n",
        "filehandler = open(filename, \"wb\")\n",
        "\n",
        "pickle.dump(best_clf_new, filehandler)"
      ],
      "execution_count": null,
      "outputs": []
    },
    {
      "cell_type": "code",
      "metadata": {
        "colab": {
          "base_uri": "https://localhost:8080/"
        },
        "id": "CD5NsQU4-CjH",
        "outputId": "a1a2cf87-8fd4-41b1-b8ab-d4567c2fa601"
      },
      "source": [
        "best_clf_new.best_params_"
      ],
      "execution_count": null,
      "outputs": [
        {
          "output_type": "execute_result",
          "data": {
            "text/plain": [
              "{'classifier': LogisticRegression(C=206.913808111479, class_weight='balanced', dual=False,\n",
              "                    fit_intercept=True, intercept_scaling=1, l1_ratio=None,\n",
              "                    max_iter=200, multi_class='auto', n_jobs=None, penalty='l1',\n",
              "                    random_state=None, solver='liblinear', tol=0.0001, verbose=0,\n",
              "                    warm_start=False),\n",
              " 'classifier__C': 206.913808111479,\n",
              " 'classifier__class_weight': 'balanced',\n",
              " 'classifier__max_iter': 200,\n",
              " 'classifier__penalty': 'l1',\n",
              " 'classifier__solver': 'liblinear'}"
            ]
          },
          "metadata": {
            "tags": []
          },
          "execution_count": 396
        }
      ]
    },
    {
      "cell_type": "code",
      "metadata": {
        "id": "UZLonomsLX_b"
      },
      "source": [
        "Y_pred_logisticRegr_new = best_clf_new.predict(X_test_n)"
      ],
      "execution_count": null,
      "outputs": []
    },
    {
      "cell_type": "code",
      "metadata": {
        "colab": {
          "base_uri": "https://localhost:8080/"
        },
        "id": "_1bICaYQLX_b",
        "outputId": "cd72c0f3-78fa-453a-e72b-93377c9e6073"
      },
      "source": [
        "target_names = ['class 0', 'class 1']\n",
        "print(classification_report(Y_test_new, Y_pred_logisticRegr_new, target_names=target_names))\n",
        "print('\\nAccuracy: %.6f' % accuracy_score(Y_test_new, Y_pred_logisticRegr_new))"
      ],
      "execution_count": null,
      "outputs": [
        {
          "output_type": "stream",
          "text": [
            "              precision    recall  f1-score   support\n",
            "\n",
            "     class 0       1.00      0.99      0.99      4743\n",
            "     class 1       0.97      1.00      0.98      1425\n",
            "\n",
            "    accuracy                           0.99      6168\n",
            "   macro avg       0.98      0.99      0.99      6168\n",
            "weighted avg       0.99      0.99      0.99      6168\n",
            "\n",
            "\n",
            "Accuracy: 0.991569\n"
          ],
          "name": "stdout"
        }
      ]
    },
    {
      "cell_type": "code",
      "metadata": {
        "id": "RS-9C_8067qg"
      },
      "source": [
        "target_names = ['class 0', 'class 1']\n",
        "report=classification_report(Y_test_new, Y_pred_logisticRegr_new, target_names=target_names,output_dict=True)\n",
        "dt = pd.DataFrame(report).transpose()\n",
        "dt.to_csv(\"LogisticRegression_grid_info\"+\".csv\")"
      ],
      "execution_count": null,
      "outputs": []
    },
    {
      "cell_type": "code",
      "metadata": {
        "colab": {
          "base_uri": "https://localhost:8080/",
          "height": 446
        },
        "id": "K7lARlL6kkBY",
        "outputId": "1045b3fb-5564-4607-8a15-41c2f8c871b0"
      },
      "source": [
        "print('\\nAccuracy: %.6f' % accuracy_score(Y_test_new, Y_pred_logisticRegr_new))\n",
        "print('\\nPrecision: %.6f' % precision_score(Y_test_new, Y_pred_logisticRegr_new))\n",
        "print('\\nRecall: %.6f' % recall_score(Y_test_new, Y_pred_logisticRegr_new))\n",
        "print('\\nF1: %.6f' % f1_score(Y_test_new, Y_pred_logisticRegr_new))\n",
        "\n",
        "disp = plot_confusion_matrix(best_clf_new, X_test_n, Y_test_new,\n",
        "        display_labels=['0', '1'], cmap=plt.cm.Blues, values_format = '.0f')\n",
        "disp.ax_.set_title('Confusion Matrix')"
      ],
      "execution_count": null,
      "outputs": [
        {
          "output_type": "stream",
          "text": [
            "\n",
            "Accuracy: 0.991569\n",
            "\n",
            "Precision: 0.966056\n",
            "\n",
            "Recall: 0.998596\n",
            "\n",
            "F1: 0.982057\n"
          ],
          "name": "stdout"
        },
        {
          "output_type": "execute_result",
          "data": {
            "text/plain": [
              "Text(0.5, 1.0, 'Confusion Matrix')"
            ]
          },
          "metadata": {
            "tags": []
          },
          "execution_count": 402
        },
        {
          "output_type": "display_data",
          "data": {
            "image/png": "[encoded data removed]",
            "text/plain": [
              "<Figure size 432x288 with 2 Axes>"
            ]
          },
          "metadata": {
            "tags": [],
            "needs_background": "light"
          }
        }
      ]
    },
    {
      "cell_type": "markdown",
      "metadata": {
        "id": "JyEoLOA-NBbg"
      },
      "source": [
        "# **Graph**"
      ]
    },
    {
      "cell_type": "code",
      "metadata": {
        "colab": {
          "base_uri": "https://localhost:8080/",
          "height": 34
        },
        "id": "YoZz4i-iNA6y",
        "outputId": "68b02c29-103e-4149-94f0-5ef8689ebad3"
      },
      "source": [
        "None_grid = {'Decision Tree' : 0.989462, 'Gaussian Naive Bayes' : 0.974870, 'Logistic Regression' : 0.990110}\n",
        "\n",
        "With_grid = {'DT + Grid' : 0.991083, 'GNB' : 0.974870, 'LR + Grid' : 0.990597}\n",
        "\n",
        "\n",
        "fig = plt.figure(figsize = (16, 10))"
      ],
      "execution_count": null,
      "outputs": [
        {
          "output_type": "display_data",
          "data": {
            "text/plain": [
              "<Figure size 1152x720 with 0 Axes>"
            ]
          },
          "metadata": {
            "tags": []
          }
        }
      ]
    },
    {
      "cell_type": "code",
      "metadata": {
        "colab": {
          "base_uri": "https://localhost:8080/",
          "height": 295
        },
        "id": "W-QxqRsHOHhK",
        "outputId": "00e9bb61-046a-414a-9a65-aced4681a50d"
      },
      "source": [
        "labels = list(None_grid.keys()) \n",
        "values = list(None_grid.values())\n",
        "\n",
        "y = [val for val in None_grid.values()]\n",
        "\n",
        "plt.bar(labels, values, width = 0.4)\n",
        "\n",
        "xlocs, xlabs = plt.xticks()\n",
        "\n",
        "for i, v in enumerate(y):\n",
        "    plt.text(xlocs[i], v + 0.01, str(v), horizontalalignment=\"center\")\n",
        "\n",
        "plt.xlabel(\"Model\") \n",
        "plt.ylabel(\"Accuracy\")\n",
        "plt.title(\"Mode's accuracy comparision\") \n",
        "plt.show()"
      ],
      "execution_count": null,
      "outputs": [
        {
          "output_type": "display_data",
          "data": {
            "image/png": "[encoded data removed]",
            "text/plain": [
              "<Figure size 432x288 with 1 Axes>"
            ]
          },
          "metadata": {
            "tags": [],
            "needs_background": "light"
          }
        }
      ]
    },
    {
      "cell_type": "code",
      "metadata": {
        "colab": {
          "base_uri": "https://localhost:8080/",
          "height": 295
        },
        "id": "RQnltifmSq6R",
        "outputId": "e876524a-7a25-4626-d39b-c23aac84ebdf"
      },
      "source": [
        "labels = list(With_grid.keys()) \n",
        "values = list(With_grid.values())\n",
        "\n",
        "y = [val for val in With_grid.values()]\n",
        "\n",
        "plt.bar(labels, values, width = 0.4)\n",
        "\n",
        "xlocs, xlabs = plt.xticks()\n",
        "\n",
        "for i, v in enumerate(y):\n",
        "    plt.text(xlocs[i], v + 0.01, str(v), horizontalalignment=\"center\")\n",
        "\n",
        "plt.xlabel(\"Model\") \n",
        "plt.ylabel(\"Accuracy\")\n",
        "plt.title(\"Mode's accuracy comparision\") \n",
        "plt.show()"
      ],
      "execution_count": null,
      "outputs": [
        {
          "output_type": "display_data",
          "data": {
            "image/png": "[encoded data removed]",
            "text/plain": [
              "<Figure size 432x288 with 1 Axes>"
            ]
          },
          "metadata": {
            "tags": [],
            "needs_background": "light"
          }
        }
      ]
    },
    {
      "cell_type": "code",
      "metadata": {
        "id": "deQ-kQpwzz1A"
      },
      "source": [
        "br1 = np.arange(len(bars1)) \n",
        "br2 = [x + barWidth for x in br1] \n",
        "   \n",
        "# Make the plot \n",
        "plt.bar(br1, IT, color ='r', width = barWidth, \n",
        "        edgecolor ='grey', label ='IT') \n",
        "plt.bar(br2, ECE, color ='g', width = barWidth,\n",
        "        edgecolor ='grey', label ='ECE') \n",
        "   \n",
        "# Adding Xticks\n",
        "plt.xlabel('Model', fontweight ='bold') \n",
        "plt.ylabel('Accuracy', fontweight ='bold') \n",
        "plt.xticks([r + barWidth for r in range(len(IT))], \n",
        "           ['2015', 'Gaussian Naive Bayes', 'Logistic Regression']) "
      ],
      "execution_count": null,
      "outputs": []
    },
    {
      "cell_type": "markdown",
      "metadata": {
        "id": "vn1WtHvoG_DO"
      },
      "source": [
        "# Dump file"
      ]
    },
    {
      "cell_type": "code",
      "metadata": {
        "id": "Or1C1tQbG4_n"
      },
      "source": [
        "df = pd.read_csv(\"data/ocupancy_data_processed_train.csv\", index_col=0)\n",
        "feature_cols = df.columns.tolist()\n",
        "feature_cols.remove('Occupancy')\n",
        "lable_cols = [\"Occupancy\"]\n",
        "feature = df[feature_cols].to_numpy()\n",
        "label = df[lable_cols].to_numpy()\n",
        "# normalize\n",
        "# train\n",
        "ccppath=DecisionTreeClassifier().fit(feature,label)\n",
        "# model =  DecisionTreeClassifier(ccp_alpha=0.001).fit(feature, label)\n",
        "print(ccppath)\n",
        "# save model\n",
        "filename = \"../model/Decisiontree.pkl\"\n",
        "filehandler = open(filename, \"wb\")\n",
        "\n",
        "pickle.dump(model, filehandler)"
      ],
      "execution_count": null,
      "outputs": []
    },
    {
      "cell_type": "code",
      "metadata": {
        "id": "XiZUXX1h9xW-"
      },
      "source": [
        "model=pickle.load(open('model/Decisiontree.pkl', 'rb'))\n",
        "print(model)\n",
        "Y_pred_decisionTree = model.predict(feature)\n",
        "report=classification_report(label, Y_pred_decisionTree, target_names=target_names,output_dict=True)\n",
        "dt = pd.DataFrame(report).transpose()\n",
        "dt.to_csv(\"model/Decisiontree_info.csv\")\n",
        "print(dt)\n",
        "print('\\nAccuracy: %.2f' % accuracy_score(label, Y_pred_decisionTree))"
      ],
      "execution_count": null,
      "outputs": []
    }
  ]
}